{
 "cells": [
  {
   "cell_type": "code",
   "execution_count": 1,
   "metadata": {},
   "outputs": [
    {
     "name": "stdout",
     "output_type": "stream",
     "text": [
      "Populating the interactive namespace from numpy and matplotlib\n"
     ]
    }
   ],
   "source": [
    "import pandas as pd\n",
    "from pandas import Series,DataFrame\n",
    "%pylab inline\n",
    "import matplotlib.ticker as ticker\n",
    "import matplotlib.pyplot as plt\n",
    "import seaborn as sns\n",
    "import warnings\n",
    "warnings.filterwarnings(\"ignore\")"
   ]
  },
  {
   "cell_type": "code",
   "execution_count": 2,
   "metadata": {},
   "outputs": [],
   "source": [
    "GV = pd.read_csv('Cleaned_data.csv')"
   ]
  },
  {
   "cell_type": "code",
   "execution_count": 3,
   "metadata": {},
   "outputs": [],
   "source": [
    "DD = pd.read_csv('health-data.csv')"
   ]
  },
  {
   "cell_type": "markdown",
   "metadata": {},
   "source": [
    "**Gun Violence Dataset Pre-processing**"
   ]
  },
  {
   "cell_type": "code",
   "execution_count": 4,
   "metadata": {},
   "outputs": [],
   "source": [
    "GV['n_victims'] = GV['n_killed'] + GV['n_injured']"
   ]
  },
  {
   "cell_type": "code",
   "execution_count": 5,
   "metadata": {},
   "outputs": [],
   "source": [
    "GV_2014 = GV[GV['Year'] == 2014]\n",
    "GV_2014_agg = GV_2014.groupby('state')['n_victims'].sum().reset_index()"
   ]
  },
  {
   "cell_type": "code",
   "execution_count": 6,
   "metadata": {},
   "outputs": [],
   "source": [
    "GV_2015 = GV[GV['Year'] == 2015]\n",
    "GV_2015_agg = GV_2015.groupby('state')['n_victims'].sum().reset_index()"
   ]
  },
  {
   "cell_type": "code",
   "execution_count": 7,
   "metadata": {},
   "outputs": [],
   "source": [
    "GV_2016 = GV[GV['Year'] == 2016]\n",
    "GV_2016_agg = GV_2016.groupby('state')['n_victims'].sum().reset_index()"
   ]
  },
  {
   "cell_type": "code",
   "execution_count": 8,
   "metadata": {},
   "outputs": [],
   "source": [
    "GV_2017 = GV[GV['Year'] == 2017]\n",
    "GV_2017_agg = GV_2017.groupby('state')['n_victims'].sum().reset_index()"
   ]
  },
  {
   "cell_type": "code",
   "execution_count": 9,
   "metadata": {},
   "outputs": [
    {
     "data": {
      "text/html": [
       "<div>\n",
       "<style scoped>\n",
       "    .dataframe tbody tr th:only-of-type {\n",
       "        vertical-align: middle;\n",
       "    }\n",
       "\n",
       "    .dataframe tbody tr th {\n",
       "        vertical-align: top;\n",
       "    }\n",
       "\n",
       "    .dataframe thead th {\n",
       "        text-align: right;\n",
       "    }\n",
       "</style>\n",
       "<table border=\"1\" class=\"dataframe\">\n",
       "  <thead>\n",
       "    <tr style=\"text-align: right;\">\n",
       "      <th></th>\n",
       "      <th>state</th>\n",
       "      <th>n_victims</th>\n",
       "    </tr>\n",
       "  </thead>\n",
       "  <tbody>\n",
       "    <tr>\n",
       "      <th>0</th>\n",
       "      <td>Alabama</td>\n",
       "      <td>916</td>\n",
       "    </tr>\n",
       "    <tr>\n",
       "      <th>1</th>\n",
       "      <td>Alaska</td>\n",
       "      <td>78</td>\n",
       "    </tr>\n",
       "    <tr>\n",
       "      <th>2</th>\n",
       "      <td>Arizona</td>\n",
       "      <td>442</td>\n",
       "    </tr>\n",
       "    <tr>\n",
       "      <th>3</th>\n",
       "      <td>Arkansas</td>\n",
       "      <td>400</td>\n",
       "    </tr>\n",
       "    <tr>\n",
       "      <th>4</th>\n",
       "      <td>California</td>\n",
       "      <td>2927</td>\n",
       "    </tr>\n",
       "  </tbody>\n",
       "</table>\n",
       "</div>"
      ],
      "text/plain": [
       "        state  n_victims\n",
       "0     Alabama        916\n",
       "1      Alaska         78\n",
       "2     Arizona        442\n",
       "3    Arkansas        400\n",
       "4  California       2927"
      ]
     },
     "execution_count": 9,
     "metadata": {},
     "output_type": "execute_result"
    }
   ],
   "source": [
    "GV_2014_agg.head()"
   ]
  },
  {
   "cell_type": "code",
   "execution_count": 10,
   "metadata": {},
   "outputs": [],
   "source": [
    "GV_by_year = pd.concat([GV_2014_agg, GV_2015_agg['n_victims'], GV_2016_agg['n_victims'], GV_2017_agg['n_victims']], \n",
    "                       axis=1, sort=False)\n",
    "GV_by_year.columns = [\"state\", \"2014\",\"2015\",\"2016\",\"2017\"]"
   ]
  },
  {
   "cell_type": "code",
   "execution_count": 11,
   "metadata": {},
   "outputs": [],
   "source": [
    "GV_by_year['total'] = GV_by_year['2014'] + GV_by_year['2015'] + \\\n",
    "                        GV_by_year['2016'] + GV_by_year['2017']"
   ]
  },
  {
   "cell_type": "code",
   "execution_count": 12,
   "metadata": {},
   "outputs": [
    {
     "data": {
      "text/html": [
       "<div>\n",
       "<style scoped>\n",
       "    .dataframe tbody tr th:only-of-type {\n",
       "        vertical-align: middle;\n",
       "    }\n",
       "\n",
       "    .dataframe tbody tr th {\n",
       "        vertical-align: top;\n",
       "    }\n",
       "\n",
       "    .dataframe thead th {\n",
       "        text-align: right;\n",
       "    }\n",
       "</style>\n",
       "<table border=\"1\" class=\"dataframe\">\n",
       "  <thead>\n",
       "    <tr style=\"text-align: right;\">\n",
       "      <th></th>\n",
       "      <th>state</th>\n",
       "      <th>2014</th>\n",
       "      <th>2015</th>\n",
       "      <th>2016</th>\n",
       "      <th>2017</th>\n",
       "      <th>total</th>\n",
       "    </tr>\n",
       "  </thead>\n",
       "  <tbody>\n",
       "    <tr>\n",
       "      <th>13</th>\n",
       "      <td>Illinois</td>\n",
       "      <td>2913</td>\n",
       "      <td>3510</td>\n",
       "      <td>5083</td>\n",
       "      <td>4588</td>\n",
       "      <td>16094</td>\n",
       "    </tr>\n",
       "    <tr>\n",
       "      <th>4</th>\n",
       "      <td>California</td>\n",
       "      <td>2927</td>\n",
       "      <td>2821</td>\n",
       "      <td>3161</td>\n",
       "      <td>3376</td>\n",
       "      <td>12285</td>\n",
       "    </tr>\n",
       "    <tr>\n",
       "      <th>43</th>\n",
       "      <td>Texas</td>\n",
       "      <td>2251</td>\n",
       "      <td>2491</td>\n",
       "      <td>2927</td>\n",
       "      <td>2734</td>\n",
       "      <td>10403</td>\n",
       "    </tr>\n",
       "    <tr>\n",
       "      <th>9</th>\n",
       "      <td>Florida</td>\n",
       "      <td>2336</td>\n",
       "      <td>2343</td>\n",
       "      <td>2847</td>\n",
       "      <td>2751</td>\n",
       "      <td>10277</td>\n",
       "    </tr>\n",
       "    <tr>\n",
       "      <th>35</th>\n",
       "      <td>Ohio</td>\n",
       "      <td>1614</td>\n",
       "      <td>1841</td>\n",
       "      <td>2083</td>\n",
       "      <td>2217</td>\n",
       "      <td>7755</td>\n",
       "    </tr>\n",
       "    <tr>\n",
       "      <th>38</th>\n",
       "      <td>Pennsylvania</td>\n",
       "      <td>1835</td>\n",
       "      <td>1572</td>\n",
       "      <td>1776</td>\n",
       "      <td>1823</td>\n",
       "      <td>7006</td>\n",
       "    </tr>\n",
       "    <tr>\n",
       "      <th>32</th>\n",
       "      <td>New York</td>\n",
       "      <td>1362</td>\n",
       "      <td>1984</td>\n",
       "      <td>1691</td>\n",
       "      <td>1439</td>\n",
       "      <td>6476</td>\n",
       "    </tr>\n",
       "    <tr>\n",
       "      <th>33</th>\n",
       "      <td>North Carolina</td>\n",
       "      <td>1371</td>\n",
       "      <td>1589</td>\n",
       "      <td>1781</td>\n",
       "      <td>1709</td>\n",
       "      <td>6450</td>\n",
       "    </tr>\n",
       "    <tr>\n",
       "      <th>10</th>\n",
       "      <td>Georgia</td>\n",
       "      <td>1339</td>\n",
       "      <td>1691</td>\n",
       "      <td>1405</td>\n",
       "      <td>1715</td>\n",
       "      <td>6150</td>\n",
       "    </tr>\n",
       "    <tr>\n",
       "      <th>18</th>\n",
       "      <td>Louisiana</td>\n",
       "      <td>1386</td>\n",
       "      <td>1399</td>\n",
       "      <td>1630</td>\n",
       "      <td>1733</td>\n",
       "      <td>6148</td>\n",
       "    </tr>\n",
       "  </tbody>\n",
       "</table>\n",
       "</div>"
      ],
      "text/plain": [
       "             state  2014  2015  2016  2017  total\n",
       "13        Illinois  2913  3510  5083  4588  16094\n",
       "4       California  2927  2821  3161  3376  12285\n",
       "43           Texas  2251  2491  2927  2734  10403\n",
       "9          Florida  2336  2343  2847  2751  10277\n",
       "35            Ohio  1614  1841  2083  2217   7755\n",
       "38    Pennsylvania  1835  1572  1776  1823   7006\n",
       "32        New York  1362  1984  1691  1439   6476\n",
       "33  North Carolina  1371  1589  1781  1709   6450\n",
       "10         Georgia  1339  1691  1405  1715   6150\n",
       "18       Louisiana  1386  1399  1630  1733   6148"
      ]
     },
     "execution_count": 12,
     "metadata": {},
     "output_type": "execute_result"
    }
   ],
   "source": [
    "GV_top10 = GV_by_year.sort_values(by='total',ascending = False)[:10]\n",
    "GV_top10"
   ]
  },
  {
   "cell_type": "markdown",
   "metadata": {},
   "source": [
    "**Depression Dataset Pre-processing**"
   ]
  },
  {
   "cell_type": "code",
   "execution_count": 13,
   "metadata": {},
   "outputs": [
    {
     "data": {
      "text/html": [
       "<div>\n",
       "<style scoped>\n",
       "    .dataframe tbody tr th:only-of-type {\n",
       "        vertical-align: middle;\n",
       "    }\n",
       "\n",
       "    .dataframe tbody tr th {\n",
       "        vertical-align: top;\n",
       "    }\n",
       "\n",
       "    .dataframe thead th {\n",
       "        text-align: right;\n",
       "    }\n",
       "</style>\n",
       "<table border=\"1\" class=\"dataframe\">\n",
       "  <thead>\n",
       "    <tr style=\"text-align: right;\">\n",
       "      <th></th>\n",
       "      <th>dma</th>\n",
       "      <th>geoCode</th>\n",
       "      <th>2004+cancer</th>\n",
       "      <th>2004+cardiovascular</th>\n",
       "      <th>2004+stroke</th>\n",
       "      <th>2004+depression</th>\n",
       "      <th>2004+rehab</th>\n",
       "      <th>2004+vaccine</th>\n",
       "      <th>2004+diarrhea</th>\n",
       "      <th>2004+obesity</th>\n",
       "      <th>...</th>\n",
       "      <th>2016+diabetes</th>\n",
       "      <th>2017+cancer</th>\n",
       "      <th>2017+cardiovascular</th>\n",
       "      <th>2017+stroke</th>\n",
       "      <th>2017+depression</th>\n",
       "      <th>2017+rehab</th>\n",
       "      <th>2017+vaccine</th>\n",
       "      <th>2017+diarrhea</th>\n",
       "      <th>2017+obesity</th>\n",
       "      <th>2017+diabetes</th>\n",
       "    </tr>\n",
       "  </thead>\n",
       "  <tbody>\n",
       "    <tr>\n",
       "      <th>0</th>\n",
       "      <td>Portland-Auburn ME</td>\n",
       "      <td>500</td>\n",
       "      <td>44</td>\n",
       "      <td>6</td>\n",
       "      <td>17</td>\n",
       "      <td>39</td>\n",
       "      <td>21</td>\n",
       "      <td>31</td>\n",
       "      <td>14</td>\n",
       "      <td>29</td>\n",
       "      <td>...</td>\n",
       "      <td>81</td>\n",
       "      <td>70</td>\n",
       "      <td>37</td>\n",
       "      <td>83</td>\n",
       "      <td>64</td>\n",
       "      <td>56</td>\n",
       "      <td>76</td>\n",
       "      <td>66</td>\n",
       "      <td>47</td>\n",
       "      <td>80</td>\n",
       "    </tr>\n",
       "    <tr>\n",
       "      <th>1</th>\n",
       "      <td>New York NY</td>\n",
       "      <td>501</td>\n",
       "      <td>47</td>\n",
       "      <td>6</td>\n",
       "      <td>13</td>\n",
       "      <td>38</td>\n",
       "      <td>16</td>\n",
       "      <td>33</td>\n",
       "      <td>12</td>\n",
       "      <td>27</td>\n",
       "      <td>...</td>\n",
       "      <td>77</td>\n",
       "      <td>70</td>\n",
       "      <td>34</td>\n",
       "      <td>53</td>\n",
       "      <td>56</td>\n",
       "      <td>53</td>\n",
       "      <td>79</td>\n",
       "      <td>56</td>\n",
       "      <td>52</td>\n",
       "      <td>78</td>\n",
       "    </tr>\n",
       "    <tr>\n",
       "      <th>2</th>\n",
       "      <td>Binghamton NY</td>\n",
       "      <td>502</td>\n",
       "      <td>48</td>\n",
       "      <td>3</td>\n",
       "      <td>16</td>\n",
       "      <td>50</td>\n",
       "      <td>12</td>\n",
       "      <td>37</td>\n",
       "      <td>24</td>\n",
       "      <td>31</td>\n",
       "      <td>...</td>\n",
       "      <td>74</td>\n",
       "      <td>68</td>\n",
       "      <td>24</td>\n",
       "      <td>71</td>\n",
       "      <td>69</td>\n",
       "      <td>44</td>\n",
       "      <td>77</td>\n",
       "      <td>78</td>\n",
       "      <td>61</td>\n",
       "      <td>72</td>\n",
       "    </tr>\n",
       "    <tr>\n",
       "      <th>3</th>\n",
       "      <td>Macon GA</td>\n",
       "      <td>503</td>\n",
       "      <td>44</td>\n",
       "      <td>14</td>\n",
       "      <td>14</td>\n",
       "      <td>37</td>\n",
       "      <td>19</td>\n",
       "      <td>49</td>\n",
       "      <td>14</td>\n",
       "      <td>29</td>\n",
       "      <td>...</td>\n",
       "      <td>78</td>\n",
       "      <td>53</td>\n",
       "      <td>38</td>\n",
       "      <td>62</td>\n",
       "      <td>46</td>\n",
       "      <td>60</td>\n",
       "      <td>47</td>\n",
       "      <td>53</td>\n",
       "      <td>41</td>\n",
       "      <td>66</td>\n",
       "    </tr>\n",
       "    <tr>\n",
       "      <th>4</th>\n",
       "      <td>Philadelphia PA</td>\n",
       "      <td>504</td>\n",
       "      <td>52</td>\n",
       "      <td>7</td>\n",
       "      <td>16</td>\n",
       "      <td>41</td>\n",
       "      <td>23</td>\n",
       "      <td>36</td>\n",
       "      <td>14</td>\n",
       "      <td>30</td>\n",
       "      <td>...</td>\n",
       "      <td>80</td>\n",
       "      <td>75</td>\n",
       "      <td>35</td>\n",
       "      <td>61</td>\n",
       "      <td>62</td>\n",
       "      <td>75</td>\n",
       "      <td>84</td>\n",
       "      <td>69</td>\n",
       "      <td>56</td>\n",
       "      <td>78</td>\n",
       "    </tr>\n",
       "  </tbody>\n",
       "</table>\n",
       "<p>5 rows × 128 columns</p>\n",
       "</div>"
      ],
      "text/plain": [
       "                  dma  geoCode  2004+cancer  2004+cardiovascular  2004+stroke  \\\n",
       "0  Portland-Auburn ME      500           44                    6           17   \n",
       "1         New York NY      501           47                    6           13   \n",
       "2       Binghamton NY      502           48                    3           16   \n",
       "3            Macon GA      503           44                   14           14   \n",
       "4     Philadelphia PA      504           52                    7           16   \n",
       "\n",
       "   2004+depression  2004+rehab  2004+vaccine  2004+diarrhea  2004+obesity  \\\n",
       "0               39          21            31             14            29   \n",
       "1               38          16            33             12            27   \n",
       "2               50          12            37             24            31   \n",
       "3               37          19            49             14            29   \n",
       "4               41          23            36             14            30   \n",
       "\n",
       "   ...  2016+diabetes  2017+cancer  2017+cardiovascular  2017+stroke  \\\n",
       "0  ...             81           70                   37           83   \n",
       "1  ...             77           70                   34           53   \n",
       "2  ...             74           68                   24           71   \n",
       "3  ...             78           53                   38           62   \n",
       "4  ...             80           75                   35           61   \n",
       "\n",
       "   2017+depression  2017+rehab  2017+vaccine  2017+diarrhea  2017+obesity  \\\n",
       "0               64          56            76             66            47   \n",
       "1               56          53            79             56            52   \n",
       "2               69          44            77             78            61   \n",
       "3               46          60            47             53            41   \n",
       "4               62          75            84             69            56   \n",
       "\n",
       "   2017+diabetes  \n",
       "0             80  \n",
       "1             78  \n",
       "2             72  \n",
       "3             66  \n",
       "4             78  \n",
       "\n",
       "[5 rows x 128 columns]"
      ]
     },
     "execution_count": 13,
     "metadata": {},
     "output_type": "execute_result"
    }
   ],
   "source": [
    "DD.head()"
   ]
  },
  {
   "cell_type": "code",
   "execution_count": 14,
   "metadata": {},
   "outputs": [],
   "source": [
    "DD['state_abb'] = DD['dma'].str[-2:]"
   ]
  },
  {
   "cell_type": "code",
   "execution_count": 15,
   "metadata": {},
   "outputs": [],
   "source": [
    "abbrev_us_state = {\n",
    "    'AL': 'Alabama',\n",
    "    'AK': 'Alaska',\n",
    "    'AZ': 'Arizona',\n",
    "    'AR': 'Arkansas',\n",
    "    'CA': 'California',\n",
    "    'CO': 'Colorado',\n",
    "    'CT': 'Connecticut',\n",
    "    'DC': 'District of Columbia',\n",
    "    'DE': 'Delaware',\n",
    "    'FL': 'Florida',\n",
    "    'GA': 'Georgia',\n",
    "    'HI': 'Hawaii',\n",
    "    'ID': 'Idaho',\n",
    "    'IL': 'Illinois',\n",
    "    'IN': 'Indiana',\n",
    "    'IA': 'Iowa',\n",
    "    'KS': 'Kansas',\n",
    "    'KY': 'Kentucky',\n",
    "    'LA': 'Louisiana',\n",
    "    'ME': 'Maine',\n",
    "    'MD': 'Maryland',\n",
    "    'MA': 'Massachusetts',\n",
    "    'MI': 'Michigan',\n",
    "    'MN': 'Minnesota',\n",
    "    'MS': 'Mississippi',\n",
    "    'MO': 'Missouri',\n",
    "    'MT': 'Montana',\n",
    "    'NE': 'Nebraska',\n",
    "    'NV': 'Nevada',\n",
    "    'NH': 'New Hampshire',\n",
    "    'NJ': 'New Jersey',\n",
    "    'NM': 'New Mexico',\n",
    "    'NY': 'New York',\n",
    "    'NC': 'North Carolina',\n",
    "    'ND': 'North Dakota',\n",
    "    'OH': 'Ohio',\n",
    "    'OK': 'Oklahoma',\n",
    "    'OR': 'Oregon',\n",
    "    'PA': 'Pennsylvania',\n",
    "    'RI': 'Rhode Island',\n",
    "    'SC': 'South Carolina',\n",
    "    'SD': 'South Dakota',\n",
    "    'TN': 'Tennessee',\n",
    "    'TX': 'Texas',\n",
    "    'UT': 'Utah',\n",
    "    'VT': 'Vermont',\n",
    "    'VA': 'Virginia',\n",
    "    'WA': 'Washington',\n",
    "    'WV': 'West Virginia',\n",
    "    'WI': 'Wisconsin',\n",
    "    'WY': 'Wyoming',\n",
    "}"
   ]
  },
  {
   "cell_type": "code",
   "execution_count": 16,
   "metadata": {},
   "outputs": [],
   "source": [
    "def state_getter(x):\n",
    "    for k,v in abbrev_us_state.items():\n",
    "        if x == k:\n",
    "            return v"
   ]
  },
  {
   "cell_type": "code",
   "execution_count": 17,
   "metadata": {},
   "outputs": [],
   "source": [
    "DD['state'] = DD['state_abb'].map(state_getter)"
   ]
  },
  {
   "cell_type": "code",
   "execution_count": 18,
   "metadata": {},
   "outputs": [
    {
     "data": {
      "text/plain": [
       "Index(['dma', 'geoCode', '2004+cancer', '2004+cardiovascular', '2004+stroke',\n",
       "       '2004+depression', '2004+rehab', '2004+vaccine', '2004+diarrhea',\n",
       "       '2004+obesity',\n",
       "       ...\n",
       "       '2017+cardiovascular', '2017+stroke', '2017+depression', '2017+rehab',\n",
       "       '2017+vaccine', '2017+diarrhea', '2017+obesity', '2017+diabetes',\n",
       "       'state_abb', 'state'],\n",
       "      dtype='object', length=130)"
      ]
     },
     "execution_count": 18,
     "metadata": {},
     "output_type": "execute_result"
    }
   ],
   "source": [
    "DD.columns"
   ]
  },
  {
   "cell_type": "code",
   "execution_count": 19,
   "metadata": {},
   "outputs": [],
   "source": [
    "DD = DD[['state','2014+depression','2015+depression','2016+depression','2017+depression']]"
   ]
  },
  {
   "cell_type": "code",
   "execution_count": 20,
   "metadata": {},
   "outputs": [],
   "source": [
    "DD_agg = DD.groupby('state').sum().reset_index()"
   ]
  },
  {
   "cell_type": "code",
   "execution_count": 21,
   "metadata": {},
   "outputs": [],
   "source": [
    "DD_agg['total'] = DD_agg['2014+depression'] + DD_agg['2015+depression'] + \\\n",
    "                    DD_agg['2016+depression'] + DD_agg['2017+depression']\n",
    "DD_agg.columns = [\"state\", \"2014\",\"2015\",\"2016\",\"2017\",\"total\"]"
   ]
  },
  {
   "cell_type": "code",
   "execution_count": 80,
   "metadata": {},
   "outputs": [
    {
     "data": {
      "text/html": [
       "<div>\n",
       "<style scoped>\n",
       "    .dataframe tbody tr th:only-of-type {\n",
       "        vertical-align: middle;\n",
       "    }\n",
       "\n",
       "    .dataframe tbody tr th {\n",
       "        vertical-align: top;\n",
       "    }\n",
       "\n",
       "    .dataframe thead th {\n",
       "        text-align: right;\n",
       "    }\n",
       "</style>\n",
       "<table border=\"1\" class=\"dataframe\">\n",
       "  <thead>\n",
       "    <tr style=\"text-align: right;\">\n",
       "      <th></th>\n",
       "      <th>state</th>\n",
       "      <th>2014</th>\n",
       "      <th>2015</th>\n",
       "      <th>2016</th>\n",
       "      <th>2017</th>\n",
       "      <th>total</th>\n",
       "    </tr>\n",
       "  </thead>\n",
       "  <tbody>\n",
       "    <tr>\n",
       "      <th>39</th>\n",
       "      <td>Texas</td>\n",
       "      <td>1013</td>\n",
       "      <td>1023</td>\n",
       "      <td>941</td>\n",
       "      <td>1000</td>\n",
       "      <td>3977</td>\n",
       "    </tr>\n",
       "    <tr>\n",
       "      <th>4</th>\n",
       "      <td>California</td>\n",
       "      <td>714</td>\n",
       "      <td>733</td>\n",
       "      <td>667</td>\n",
       "      <td>719</td>\n",
       "      <td>2833</td>\n",
       "    </tr>\n",
       "    <tr>\n",
       "      <th>29</th>\n",
       "      <td>New York</td>\n",
       "      <td>665</td>\n",
       "      <td>687</td>\n",
       "      <td>637</td>\n",
       "      <td>659</td>\n",
       "      <td>2648</td>\n",
       "    </tr>\n",
       "    <tr>\n",
       "      <th>32</th>\n",
       "      <td>Ohio</td>\n",
       "      <td>597</td>\n",
       "      <td>616</td>\n",
       "      <td>568</td>\n",
       "      <td>621</td>\n",
       "      <td>2402</td>\n",
       "    </tr>\n",
       "    <tr>\n",
       "      <th>20</th>\n",
       "      <td>Michigan</td>\n",
       "      <td>501</td>\n",
       "      <td>520</td>\n",
       "      <td>465</td>\n",
       "      <td>492</td>\n",
       "      <td>1978</td>\n",
       "    </tr>\n",
       "    <tr>\n",
       "      <th>7</th>\n",
       "      <td>Florida</td>\n",
       "      <td>479</td>\n",
       "      <td>486</td>\n",
       "      <td>488</td>\n",
       "      <td>471</td>\n",
       "      <td>1924</td>\n",
       "    </tr>\n",
       "    <tr>\n",
       "      <th>12</th>\n",
       "      <td>Indiana</td>\n",
       "      <td>414</td>\n",
       "      <td>437</td>\n",
       "      <td>401</td>\n",
       "      <td>416</td>\n",
       "      <td>1668</td>\n",
       "    </tr>\n",
       "    <tr>\n",
       "      <th>8</th>\n",
       "      <td>Georgia</td>\n",
       "      <td>412</td>\n",
       "      <td>444</td>\n",
       "      <td>408</td>\n",
       "      <td>404</td>\n",
       "      <td>1668</td>\n",
       "    </tr>\n",
       "    <tr>\n",
       "      <th>35</th>\n",
       "      <td>Pennsylvania</td>\n",
       "      <td>411</td>\n",
       "      <td>429</td>\n",
       "      <td>390</td>\n",
       "      <td>408</td>\n",
       "      <td>1638</td>\n",
       "    </tr>\n",
       "    <tr>\n",
       "      <th>23</th>\n",
       "      <td>Missouri</td>\n",
       "      <td>399</td>\n",
       "      <td>425</td>\n",
       "      <td>390</td>\n",
       "      <td>401</td>\n",
       "      <td>1615</td>\n",
       "    </tr>\n",
       "  </tbody>\n",
       "</table>\n",
       "</div>"
      ],
      "text/plain": [
       "           state  2014  2015  2016  2017  total\n",
       "39         Texas  1013  1023   941  1000   3977\n",
       "4     California   714   733   667   719   2833\n",
       "29      New York   665   687   637   659   2648\n",
       "32          Ohio   597   616   568   621   2402\n",
       "20      Michigan   501   520   465   492   1978\n",
       "7        Florida   479   486   488   471   1924\n",
       "12       Indiana   414   437   401   416   1668\n",
       "8        Georgia   412   444   408   404   1668\n",
       "35  Pennsylvania   411   429   390   408   1638\n",
       "23      Missouri   399   425   390   401   1615"
      ]
     },
     "execution_count": 80,
     "metadata": {},
     "output_type": "execute_result"
    }
   ],
   "source": [
    "DD_top10 = DD_agg.sort_values(by='total',ascending = False)[:10]\n",
    "DD_top10"
   ]
  },
  {
   "cell_type": "code",
   "execution_count": 23,
   "metadata": {},
   "outputs": [
    {
     "data": {
      "text/plain": [
       "13          Illinois\n",
       "4         California\n",
       "43             Texas\n",
       "9            Florida\n",
       "35              Ohio\n",
       "38      Pennsylvania\n",
       "32          New York\n",
       "33    North Carolina\n",
       "10           Georgia\n",
       "18         Louisiana\n",
       "Name: state, dtype: object"
      ]
     },
     "execution_count": 23,
     "metadata": {},
     "output_type": "execute_result"
    }
   ],
   "source": [
    "GV_top10['state']"
   ]
  },
  {
   "cell_type": "code",
   "execution_count": 24,
   "metadata": {},
   "outputs": [
    {
     "data": {
      "text/plain": [
       "39           Texas\n",
       "4       California\n",
       "29        New York\n",
       "32            Ohio\n",
       "20        Michigan\n",
       "7          Florida\n",
       "12         Indiana\n",
       "8          Georgia\n",
       "35    Pennsylvania\n",
       "23        Missouri\n",
       "Name: state, dtype: object"
      ]
     },
     "execution_count": 24,
     "metadata": {},
     "output_type": "execute_result"
    }
   ],
   "source": [
    "DD_top10['state']"
   ]
  },
  {
   "cell_type": "markdown",
   "metadata": {},
   "source": [
    "**EDA**"
   ]
  },
  {
   "cell_type": "markdown",
   "metadata": {},
   "source": [
    "**Texas Numbers**"
   ]
  },
  {
   "cell_type": "code",
   "execution_count": 37,
   "metadata": {},
   "outputs": [],
   "source": [
    "texas = pd.concat([GV_by_year[GV_by_year['state']=='Texas'], DD_agg[DD_agg['state']=='Texas']], axis=0)\n",
    "texas.rename(index={43:'victim_number',39:'depression_number'}, inplace=True)\n",
    "texas.drop(['state','total'],inplace = True, axis=1)\n",
    "texas = texas.T\n",
    "\n",
    "#normalized by population\n",
    "texas['victim_number'] = texas['victim_number']*(100/27937492)\n",
    "texas['depression_number'] = texas['depression_number']*(100/27937492)"
   ]
  },
  {
   "cell_type": "code",
   "execution_count": 38,
   "metadata": {},
   "outputs": [
    {
     "data": {
      "text/html": [
       "<div>\n",
       "<style scoped>\n",
       "    .dataframe tbody tr th:only-of-type {\n",
       "        vertical-align: middle;\n",
       "    }\n",
       "\n",
       "    .dataframe tbody tr th {\n",
       "        vertical-align: top;\n",
       "    }\n",
       "\n",
       "    .dataframe thead th {\n",
       "        text-align: right;\n",
       "    }\n",
       "</style>\n",
       "<table border=\"1\" class=\"dataframe\">\n",
       "  <thead>\n",
       "    <tr style=\"text-align: right;\">\n",
       "      <th></th>\n",
       "      <th>victim_number</th>\n",
       "      <th>depression_number</th>\n",
       "    </tr>\n",
       "  </thead>\n",
       "  <tbody>\n",
       "    <tr>\n",
       "      <th>2014</th>\n",
       "      <td>0.008057</td>\n",
       "      <td>0.003626</td>\n",
       "    </tr>\n",
       "    <tr>\n",
       "      <th>2015</th>\n",
       "      <td>0.008916</td>\n",
       "      <td>0.003662</td>\n",
       "    </tr>\n",
       "    <tr>\n",
       "      <th>2016</th>\n",
       "      <td>0.010477</td>\n",
       "      <td>0.003368</td>\n",
       "    </tr>\n",
       "    <tr>\n",
       "      <th>2017</th>\n",
       "      <td>0.009786</td>\n",
       "      <td>0.003579</td>\n",
       "    </tr>\n",
       "  </tbody>\n",
       "</table>\n",
       "</div>"
      ],
      "text/plain": [
       "      victim_number  depression_number\n",
       "2014       0.008057           0.003626\n",
       "2015       0.008916           0.003662\n",
       "2016       0.010477           0.003368\n",
       "2017       0.009786           0.003579"
      ]
     },
     "execution_count": 38,
     "metadata": {},
     "output_type": "execute_result"
    }
   ],
   "source": [
    "#Numbers per 100 people\n",
    "texas"
   ]
  },
  {
   "cell_type": "code",
   "execution_count": 72,
   "metadata": {},
   "outputs": [
    {
     "data": {
      "text/plain": [
       "<Figure size 432x288 with 0 Axes>"
      ]
     },
     "metadata": {},
     "output_type": "display_data"
    },
    {
     "data": {
      "image/png": "[encoded data removed]",
      "text/plain": [
       "<Figure size 576x432 with 1 Axes>"
      ]
     },
     "metadata": {
      "needs_background": "light"
     },
     "output_type": "display_data"
    }
   ],
   "source": [
    "plt.figure()\n",
    "texas.plot(figsize=(8,6))\n",
    "plt.xlabel('Year')\n",
    "plt.ylabel('Number Affected per 100 people')\n",
    "plt.title('Gun Violence Victims vs Depression in Texas')\n",
    "plt.tight_layout()\n",
    "plt.show()"
   ]
  },
  {
   "cell_type": "markdown",
   "metadata": {},
   "source": [
    "**Illinois Numbers**"
   ]
  },
  {
   "cell_type": "code",
   "execution_count": 40,
   "metadata": {},
   "outputs": [],
   "source": [
    "illinois = pd.concat([GV_by_year[GV_by_year['state']=='Illinois'], DD_agg[DD_agg['state']=='Illinois']], axis=0)\n",
    "illinois.rename(index={13:'victim_number',11:'depression_number'}, inplace=True)\n",
    "illinois.drop(['state','total'],inplace = True, axis=1)\n",
    "illinois = illinois.T\n",
    "\n",
    "#normalize by population\n",
    "illinois['victim_number'] = illinois['victim_number']*(100/12826895)\n",
    "illinois['depression_number'] = illinois['depression_number']*(100/12826895)"
   ]
  },
  {
   "cell_type": "code",
   "execution_count": 73,
   "metadata": {},
   "outputs": [
    {
     "data": {
      "text/plain": [
       "<Figure size 432x288 with 0 Axes>"
      ]
     },
     "metadata": {},
     "output_type": "display_data"
    },
    {
     "data": {
      "image/png": "[encoded data removed]",
      "text/plain": [
       "<Figure size 576x432 with 1 Axes>"
      ]
     },
     "metadata": {
      "needs_background": "light"
     },
     "output_type": "display_data"
    }
   ],
   "source": [
    "plt.figure()\n",
    "illinois.plot(figsize=(8,6))\n",
    "plt.xlabel('Year')\n",
    "plt.ylabel('Number Affected per 100 people')\n",
    "plt.title('Gun Violence Victims vs Depression in Illinois')\n",
    "plt.tight_layout()\n",
    "plt.show()"
   ]
  },
  {
   "cell_type": "markdown",
   "metadata": {},
   "source": [
    "**California Numbers**"
   ]
  },
  {
   "cell_type": "code",
   "execution_count": 42,
   "metadata": {},
   "outputs": [],
   "source": [
    "cali = pd.concat([GV_by_year[GV_by_year['state']=='California'], \n",
    "                  DD_agg[DD_agg['state']=='California']], axis=0).reset_index()\n",
    "cali.rename(index={0:'victim_number',1:'depression_number'}, inplace=True)\n",
    "cali.drop(['index','state','total'],inplace = True, axis=1)\n",
    "cali = cali.T\n",
    "\n",
    "#normalize by population\n",
    "cali['victim_number'] = cali['victim_number']*(100/39209127)\n",
    "cali['depression_number'] = cali['depression_number']*(100/39209127)"
   ]
  },
  {
   "cell_type": "code",
   "execution_count": 74,
   "metadata": {},
   "outputs": [
    {
     "data": {
      "text/plain": [
       "<Figure size 432x288 with 0 Axes>"
      ]
     },
     "metadata": {},
     "output_type": "display_data"
    },
    {
     "data": {
      "image/png": "[encoded data removed]",
      "text/plain": [
       "<Figure size 576x432 with 1 Axes>"
      ]
     },
     "metadata": {
      "needs_background": "light"
     },
     "output_type": "display_data"
    }
   ],
   "source": [
    "plt.figure()\n",
    "cali.plot(figsize=(8,6))\n",
    "plt.xlabel('Year')\n",
    "plt.ylabel('Number Affected per 100 people')\n",
    "plt.title('Gun Violence Victims vs Depression in California')\n",
    "plt.tight_layout()\n",
    "plt.show()"
   ]
  },
  {
   "cell_type": "markdown",
   "metadata": {},
   "source": [
    "**Ohio Numbers**"
   ]
  },
  {
   "cell_type": "code",
   "execution_count": 44,
   "metadata": {},
   "outputs": [],
   "source": [
    "ohio = pd.concat([GV_by_year[GV_by_year['state']=='Ohio'], \n",
    "                  DD_agg[DD_agg['state']=='Ohio']], axis=0).reset_index()\n",
    "ohio.rename(index={0:'victim_number',1:'depression_number'}, inplace=True)\n",
    "ohio.drop(['index','state','total'],inplace = True, axis=1)\n",
    "ohio = ohio.T\n",
    "\n",
    "#normalize by population\n",
    "ohio['victim_number'] = ohio['victim_number']*(100/11635003)\n",
    "ohio['depression_number'] = ohio['depression_number']*(100/11635003)"
   ]
  },
  {
   "cell_type": "code",
   "execution_count": 75,
   "metadata": {},
   "outputs": [
    {
     "data": {
      "text/plain": [
       "<Figure size 432x288 with 0 Axes>"
      ]
     },
     "metadata": {},
     "output_type": "display_data"
    },
    {
     "data": {
      "image/png": "[encoded data removed]",
      "text/plain": [
       "<Figure size 576x432 with 1 Axes>"
      ]
     },
     "metadata": {
      "needs_background": "light"
     },
     "output_type": "display_data"
    }
   ],
   "source": [
    "plt.figure()\n",
    "ohio.plot(figsize=(8,6))\n",
    "plt.xlabel('Year')\n",
    "plt.ylabel('Number Affected per 100 people')\n",
    "plt.title('Gun Violence Victims vs Depression in Ohio')\n",
    "plt.tight_layout()\n",
    "plt.show()"
   ]
  }
 ],
 "metadata": {
  "kernelspec": {
   "display_name": "Python 3",
   "language": "python",
   "name": "python3"
  },
  "language_info": {
   "codemirror_mode": {
    "name": "ipython",
    "version": 3
   },
   "file_extension": ".py",
   "mimetype": "text/x-python",
   "name": "python",
   "nbconvert_exporter": "python",
   "pygments_lexer": "ipython3",
   "version": "3.7.3"
  }
 },
 "nbformat": 4,
 "nbformat_minor": 2
}
