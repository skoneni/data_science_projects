{
  "nbformat": 4,
  "nbformat_minor": 0,
  "metadata": {
    "colab": {
      "name": "twitter_sentiment_analysis.ipynb",
      "provenance": [],
      "collapsed_sections": []
    },
    "kernelspec": {
      "name": "python3",
      "display_name": "Python 3"
    }
  },
  "cells": [
    {
      "cell_type": "code",
      "metadata": {
        "id": "wrieukmSvVkY",
        "colab_type": "code",
        "outputId": "9381f3b9-40bb-4b46-dd43-818f2f2edde6",
        "colab": {
          "base_uri": "https://localhost:8080/",
          "height": 120
        }
      },
      "source": [
        "from google.colab import drive\n",
        "drive.mount('/content/gdrive',force_remount= True)"
      ],
      "execution_count": 1,
      "outputs": [
        {
          "output_type": "stream",
          "text": [
            "Go to this URL in a browser: https://accounts.google.com/o/oauth2/auth?client_id=947318989803-6bn6qk8qdgf4n4g3pfee6491hc0brc4i.apps.googleusercontent.com&redirect_uri=urn%3aietf%3awg%3aoauth%3a2.0%3aoob&response_type=code&scope=email%20https%3a%2f%2fwww.googleapis.com%2fauth%2fdocs.test%20https%3a%2f%2fwww.googleapis.com%2fauth%2fdrive%20https%3a%2f%2fwww.googleapis.com%2fauth%2fdrive.photos.readonly%20https%3a%2f%2fwww.googleapis.com%2fauth%2fpeopleapi.readonly\n",
            "\n",
            "Enter your authorization code:\n",
            "··········\n",
            "Mounted at /content/gdrive\n"
          ],
          "name": "stdout"
        }
      ]
    },
    {
      "cell_type": "code",
      "metadata": {
        "id": "OuSwKdpTvVhA",
        "colab_type": "code",
        "colab": {}
      },
      "source": [
        "import pandas as pd   "
      ],
      "execution_count": 0,
      "outputs": []
    },
    {
      "cell_type": "code",
      "metadata": {
        "id": "MGzRQ6OZwHAr",
        "colab_type": "code",
        "colab": {}
      },
      "source": [
        "import os\n",
        "os.getcwd()\n",
        "os.chdir('/content/gdrive/My Drive/Colab Notebooks')"
      ],
      "execution_count": 0,
      "outputs": []
    },
    {
      "cell_type": "code",
      "metadata": {
        "id": "4eXYMB_lmsTU",
        "colab_type": "code",
        "outputId": "19310839-d7c5-4eba-cf57-918355b01e94",
        "colab": {
          "base_uri": "https://localhost:8080/",
          "height": 162
        }
      },
      "source": [
        "# type(df_tweets['date'].iloc[0])"
      ],
      "execution_count": 4,
      "outputs": [
        {
          "output_type": "error",
          "ename": "NameError",
          "evalue": "ignored",
          "traceback": [
            "\u001b[0;31m---------------------------------------------------------------------------\u001b[0m",
            "\u001b[0;31mNameError\u001b[0m                                 Traceback (most recent call last)",
            "\u001b[0;32m<ipython-input-4-693abd5eb9d7>\u001b[0m in \u001b[0;36m<module>\u001b[0;34m()\u001b[0m\n\u001b[0;32m----> 1\u001b[0;31m \u001b[0mtype\u001b[0m\u001b[0;34m(\u001b[0m\u001b[0mdf_tweets\u001b[0m\u001b[0;34m[\u001b[0m\u001b[0;34m'date'\u001b[0m\u001b[0;34m]\u001b[0m\u001b[0;34m.\u001b[0m\u001b[0miloc\u001b[0m\u001b[0;34m[\u001b[0m\u001b[0;36m0\u001b[0m\u001b[0;34m]\u001b[0m\u001b[0;34m)\u001b[0m\u001b[0;34m\u001b[0m\u001b[0;34m\u001b[0m\u001b[0m\n\u001b[0m",
            "\u001b[0;31mNameError\u001b[0m: name 'df_tweets' is not defined"
          ]
        }
      ]
    },
    {
      "cell_type": "code",
      "metadata": {
        "id": "2JHTNL4fxPpr",
        "colab_type": "code",
        "outputId": "a3f9f0c3-e9c3-45ca-f72c-0b24eed7c0ca",
        "colab": {
          "base_uri": "https://localhost:8080/",
          "height": 50
        }
      },
      "source": [
        "import pandas as pd\n",
        "from datetime import datetime\n",
        "\n",
        "df_tweets = pd.read_csv('all_tweets_data.csv')\n",
        "df_tweets = df_tweets[df_tweets['date'].notnull()]\n",
        "df_tweets['date'] = df_tweets['date'].map(lambda x: datetime.strptime(str(x), '%Y-%m-%d'))"
      ],
      "execution_count": 8,
      "outputs": [
        {
          "output_type": "stream",
          "text": [
            "/usr/local/lib/python3.6/dist-packages/IPython/core/interactiveshell.py:2718: DtypeWarning: Columns (0,1,4,5,9) have mixed types. Specify dtype option on import or set low_memory=False.\n",
            "  interactivity=interactivity, compiler=compiler, result=result)\n"
          ],
          "name": "stderr"
        }
      ]
    },
    {
      "cell_type": "code",
      "metadata": {
        "id": "IfEgLkAwlls4",
        "colab_type": "code",
        "colab": {}
      },
      "source": [
        "# df_after_news = df_tweets[df_tweets['date']>'2019-10-27']"
      ],
      "execution_count": 0,
      "outputs": []
    },
    {
      "cell_type": "code",
      "metadata": {
        "id": "1iMsQ4keldDx",
        "colab_type": "code",
        "outputId": "bc309ff2-9e38-4a93-bf6f-6e817f734d61",
        "colab": {
          "base_uri": "https://localhost:8080/",
          "height": 417
        }
      },
      "source": [
        "df_tweets.isnull().sum()"
      ],
      "execution_count": 13,
      "outputs": [
        {
          "output_type": "execute_result",
          "data": {
            "text/plain": [
              "Unnamed: 0              0\n",
              "has_media               0\n",
              "hashtags                0\n",
              "img_urls                0\n",
              "is_replied              0\n",
              "is_reply_to             0\n",
              "likes                   0\n",
              "links                   0\n",
              "parent_tweet_id     70095\n",
              "replies                 0\n",
              "reply_to_users          0\n",
              "retweets                0\n",
              "screen_name             0\n",
              "text                  121\n",
              "text_html               0\n",
              "timestamp               0\n",
              "timestamp_epochs        0\n",
              "tweet_id                0\n",
              "tweet_url               0\n",
              "user_id                 0\n",
              "username                4\n",
              "video_url           88914\n",
              "date                    0\n",
              "dtype: int64"
            ]
          },
          "metadata": {
            "tags": []
          },
          "execution_count": 13
        }
      ]
    },
    {
      "cell_type": "code",
      "metadata": {
        "id": "Lq8f_HbuzTnL",
        "colab_type": "code",
        "outputId": "9129d32c-12e6-4ffc-9e41-614afb6a7590",
        "colab": {
          "base_uri": "https://localhost:8080/",
          "height": 667
        }
      },
      "source": [
        "df_tweets.head()"
      ],
      "execution_count": 14,
      "outputs": [
        {
          "output_type": "execute_result",
          "data": {
            "text/html": [
              "<div>\n",
              "<style scoped>\n",
              "    .dataframe tbody tr th:only-of-type {\n",
              "        vertical-align: middle;\n",
              "    }\n",
              "\n",
              "    .dataframe tbody tr th {\n",
              "        vertical-align: top;\n",
              "    }\n",
              "\n",
              "    .dataframe thead th {\n",
              "        text-align: right;\n",
              "    }\n",
              "</style>\n",
              "<table border=\"1\" class=\"dataframe\">\n",
              "  <thead>\n",
              "    <tr style=\"text-align: right;\">\n",
              "      <th></th>\n",
              "      <th>Unnamed: 0</th>\n",
              "      <th>has_media</th>\n",
              "      <th>hashtags</th>\n",
              "      <th>img_urls</th>\n",
              "      <th>is_replied</th>\n",
              "      <th>is_reply_to</th>\n",
              "      <th>likes</th>\n",
              "      <th>links</th>\n",
              "      <th>parent_tweet_id</th>\n",
              "      <th>replies</th>\n",
              "      <th>reply_to_users</th>\n",
              "      <th>retweets</th>\n",
              "      <th>screen_name</th>\n",
              "      <th>text</th>\n",
              "      <th>text_html</th>\n",
              "      <th>timestamp</th>\n",
              "      <th>timestamp_epochs</th>\n",
              "      <th>tweet_id</th>\n",
              "      <th>tweet_url</th>\n",
              "      <th>user_id</th>\n",
              "      <th>username</th>\n",
              "      <th>video_url</th>\n",
              "      <th>date</th>\n",
              "    </tr>\n",
              "  </thead>\n",
              "  <tbody>\n",
              "    <tr>\n",
              "      <th>0</th>\n",
              "      <td>0</td>\n",
              "      <td>False</td>\n",
              "      <td>['fitness', 'sportgears']</td>\n",
              "      <td>[]</td>\n",
              "      <td>False</td>\n",
              "      <td>False</td>\n",
              "      <td>0.0</td>\n",
              "      <td>['https://ift.tt/34aN7sz']</td>\n",
              "      <td>NaN</td>\n",
              "      <td>0</td>\n",
              "      <td>[]</td>\n",
              "      <td>0.0</td>\n",
              "      <td>kamzou08</td>\n",
              "      <td>Fitbit Versa Smart Watch - \"Special Edition\" -...</td>\n",
              "      <td>&lt;p class=\"TweetTextSize js-tweet-text tweet-te...</td>\n",
              "      <td>2019-10-27 23:58:38</td>\n",
              "      <td>2019-10-27 23:58:38</td>\n",
              "      <td>1.188606e+18</td>\n",
              "      <td>/kamzou08/status/1188605960560037889</td>\n",
              "      <td>6.933052e+07</td>\n",
              "      <td>Kamzou L</td>\n",
              "      <td>NaN</td>\n",
              "      <td>2019-10-27</td>\n",
              "    </tr>\n",
              "    <tr>\n",
              "      <th>1</th>\n",
              "      <td>1</td>\n",
              "      <td>False</td>\n",
              "      <td>[]</td>\n",
              "      <td>[]</td>\n",
              "      <td>True</td>\n",
              "      <td>True</td>\n",
              "      <td>0.0</td>\n",
              "      <td>[]</td>\n",
              "      <td>1.188557e+18</td>\n",
              "      <td>1</td>\n",
              "      <td>[{'screen_name': 'traderkarthik', 'user_id': '...</td>\n",
              "      <td>0.0</td>\n",
              "      <td>ktownsux</td>\n",
              "      <td>How did you do that? Do they have food diaries...</td>\n",
              "      <td>&lt;p class=\"TweetTextSize js-tweet-text tweet-te...</td>\n",
              "      <td>2019-10-27 23:58:20</td>\n",
              "      <td>2019-10-27 23:58:20</td>\n",
              "      <td>1.188606e+18</td>\n",
              "      <td>/ktownsux/status/1188605881409257476</td>\n",
              "      <td>1.787604e+07</td>\n",
              "      <td>Socrates Johnson</td>\n",
              "      <td>NaN</td>\n",
              "      <td>2019-10-27</td>\n",
              "    </tr>\n",
              "    <tr>\n",
              "      <th>2</th>\n",
              "      <td>2</td>\n",
              "      <td>False</td>\n",
              "      <td>[]</td>\n",
              "      <td>[]</td>\n",
              "      <td>True</td>\n",
              "      <td>True</td>\n",
              "      <td>1.0</td>\n",
              "      <td>[]</td>\n",
              "      <td>1.188594e+18</td>\n",
              "      <td>1</td>\n",
              "      <td>[{'screen_name': 'tomholz', 'user_id': '303466...</td>\n",
              "      <td>0.0</td>\n",
              "      <td>beejereeno</td>\n",
              "      <td>So you're saying anyone who doesn't use these ...</td>\n",
              "      <td>&lt;p class=\"TweetTextSize js-tweet-text tweet-te...</td>\n",
              "      <td>2019-10-27 23:56:43</td>\n",
              "      <td>2019-10-27 23:56:43</td>\n",
              "      <td>1.188605e+18</td>\n",
              "      <td>/beejereeno/status/1188605475375456256</td>\n",
              "      <td>1.538241e+07</td>\n",
              "      <td>Bobbi Jo W❄️❄️ds ⛄🎄🎀</td>\n",
              "      <td>NaN</td>\n",
              "      <td>2019-10-27</td>\n",
              "    </tr>\n",
              "    <tr>\n",
              "      <th>3</th>\n",
              "      <td>3</td>\n",
              "      <td>False</td>\n",
              "      <td>[]</td>\n",
              "      <td>[]</td>\n",
              "      <td>False</td>\n",
              "      <td>False</td>\n",
              "      <td>3.0</td>\n",
              "      <td>[]</td>\n",
              "      <td>NaN</td>\n",
              "      <td>0</td>\n",
              "      <td>[]</td>\n",
              "      <td>0.0</td>\n",
              "      <td>_erinroberts</td>\n",
              "      <td>BUZZIN to set up my Fitbit and google everythi...</td>\n",
              "      <td>&lt;p class=\"TweetTextSize js-tweet-text tweet-te...</td>\n",
              "      <td>2019-10-27 23:55:38</td>\n",
              "      <td>2019-10-27 23:55:38</td>\n",
              "      <td>1.188605e+18</td>\n",
              "      <td>/_erinroberts/status/1188605205761478659</td>\n",
              "      <td>2.623616e+08</td>\n",
              "      <td>Erin Roberts🧸</td>\n",
              "      <td>NaN</td>\n",
              "      <td>2019-10-27</td>\n",
              "    </tr>\n",
              "    <tr>\n",
              "      <th>4</th>\n",
              "      <td>4</td>\n",
              "      <td>False</td>\n",
              "      <td>['fitbit', 'googlefit']</td>\n",
              "      <td>[]</td>\n",
              "      <td>False</td>\n",
              "      <td>False</td>\n",
              "      <td>0.0</td>\n",
              "      <td>[]</td>\n",
              "      <td>NaN</td>\n",
              "      <td>0</td>\n",
              "      <td>[]</td>\n",
              "      <td>0.0</td>\n",
              "      <td>StepEscape</td>\n",
              "      <td>#fitbit #googlefit Top Weekly Games:</td>\n",
              "      <td>&lt;p class=\"TweetTextSize js-tweet-text tweet-te...</td>\n",
              "      <td>2019-10-27 23:55:06</td>\n",
              "      <td>2019-10-27 23:55:06</td>\n",
              "      <td>1.188605e+18</td>\n",
              "      <td>/StepEscape/status/1188605070608359425</td>\n",
              "      <td>9.714170e+17</td>\n",
              "      <td>StepEscape</td>\n",
              "      <td>NaN</td>\n",
              "      <td>2019-10-27</td>\n",
              "    </tr>\n",
              "  </tbody>\n",
              "</table>\n",
              "</div>"
            ],
            "text/plain": [
              "  Unnamed: 0 has_media  ... video_url       date\n",
              "0          0     False  ...       NaN 2019-10-27\n",
              "1          1     False  ...       NaN 2019-10-27\n",
              "2          2     False  ...       NaN 2019-10-27\n",
              "3          3     False  ...       NaN 2019-10-27\n",
              "4          4     False  ...       NaN 2019-10-27\n",
              "\n",
              "[5 rows x 23 columns]"
            ]
          },
          "metadata": {
            "tags": []
          },
          "execution_count": 14
        }
      ]
    },
    {
      "cell_type": "code",
      "metadata": {
        "id": "sHKF85r9bO30",
        "colab_type": "code",
        "colab": {}
      },
      "source": [
        "import numpy as np\n",
        "from matplotlib import pyplot as plt\n",
        "from sklearn.cluster import KMeans"
      ],
      "execution_count": 0,
      "outputs": []
    },
    {
      "cell_type": "code",
      "metadata": {
        "id": "Kf-IB_Vybi-H",
        "colab_type": "code",
        "colab": {}
      },
      "source": [
        "df_tweets.columns.values\n",
        "df_tweets.dtypes\n",
        "df_tweets['likes'].fillna(0,inplace=True)\n",
        "df_tweets['retweets'].fillna(0,inplace=True)\n",
        "df_tweets['likes_pre'] = df_tweets['likes'].map(lambda x: (x-df_tweets.likes.min())/df_tweets.likes.max() )\n",
        "df_tweets['retweets_pre'] = df_tweets['retweets'].map(lambda x: (x-df_tweets.retweets.min())/df_tweets.retweets.max() )"
      ],
      "execution_count": 0,
      "outputs": []
    },
    {
      "cell_type": "code",
      "metadata": {
        "id": "C_4BEKWXdOJX",
        "colab_type": "code",
        "outputId": "53473af7-2dd9-41e2-c5d0-1ead658ee023",
        "colab": {
          "base_uri": "https://localhost:8080/",
          "height": 295
        }
      },
      "source": [
        "wcss = []\n",
        "for i in range(1, 11):\n",
        "    kmeans = KMeans(n_clusters=i, init='k-means++', max_iter=300, n_init=10, random_state=0)\n",
        "    kmeans.fit(df_tweets[['likes_pre','retweets_pre']])\n",
        "    wcss.append(kmeans.inertia_)\n",
        "plt.plot(range(1, 11), wcss)\n",
        "plt.title('Elbow Method')\n",
        "plt.xlabel('Number of clusters')\n",
        "plt.ylabel('WCSS')\n",
        "plt.show()"
      ],
      "execution_count": 17,
      "outputs": [
        {
          "output_type": "display_data",
          "data": {
            "image/png": "[encoded data removed]",
            "text/plain": [
              "<Figure size 432x288 with 1 Axes>"
            ]
          },
          "metadata": {
            "tags": []
          }
        }
      ]
    },
    {
      "cell_type": "code",
      "metadata": {
        "id": "nPnjxpyEdP0J",
        "colab_type": "code",
        "colab": {}
      },
      "source": [
        "kmeans = KMeans(n_clusters=4, init='k-means++', max_iter=300, n_init=10, random_state=0)\n",
        "df_tweets['cluster'] = kmeans.fit_predict(df_tweets[['likes_pre','retweets_pre']])\n"
      ],
      "execution_count": 0,
      "outputs": []
    },
    {
      "cell_type": "code",
      "metadata": {
        "id": "X17Q4UQ4iYNm",
        "colab_type": "code",
        "outputId": "a02c7fa3-ac70-47c5-aaed-1eef5dd6f450",
        "colab": {
          "base_uri": "https://localhost:8080/",
          "height": 33
        }
      },
      "source": [
        "df_tweets['cluster'].unique()"
      ],
      "execution_count": 20,
      "outputs": [
        {
          "output_type": "execute_result",
          "data": {
            "text/plain": [
              "array([0, 2, 1, 3])"
            ]
          },
          "metadata": {
            "tags": []
          },
          "execution_count": 20
        }
      ]
    },
    {
      "cell_type": "code",
      "metadata": {
        "id": "wGI-dpBei142",
        "colab_type": "code",
        "outputId": "455e2f71-d7ff-4bf6-87ff-a1c97d751299",
        "colab": {
          "base_uri": "https://localhost:8080/",
          "height": 197
        }
      },
      "source": [
        "df_tweets.groupby('cluster')[['likes','retweets']].mean()"
      ],
      "execution_count": 21,
      "outputs": [
        {
          "output_type": "execute_result",
          "data": {
            "text/html": [
              "<div>\n",
              "<style scoped>\n",
              "    .dataframe tbody tr th:only-of-type {\n",
              "        vertical-align: middle;\n",
              "    }\n",
              "\n",
              "    .dataframe tbody tr th {\n",
              "        vertical-align: top;\n",
              "    }\n",
              "\n",
              "    .dataframe thead th {\n",
              "        text-align: right;\n",
              "    }\n",
              "</style>\n",
              "<table border=\"1\" class=\"dataframe\">\n",
              "  <thead>\n",
              "    <tr style=\"text-align: right;\">\n",
              "      <th></th>\n",
              "      <th>likes</th>\n",
              "      <th>retweets</th>\n",
              "    </tr>\n",
              "    <tr>\n",
              "      <th>cluster</th>\n",
              "      <th></th>\n",
              "      <th></th>\n",
              "    </tr>\n",
              "  </thead>\n",
              "  <tbody>\n",
              "    <tr>\n",
              "      <th>0</th>\n",
              "      <td>1.868193</td>\n",
              "      <td>0.522525</td>\n",
              "    </tr>\n",
              "    <tr>\n",
              "      <th>1</th>\n",
              "      <td>9514.000000</td>\n",
              "      <td>2312.000000</td>\n",
              "    </tr>\n",
              "    <tr>\n",
              "      <th>2</th>\n",
              "      <td>1896.206897</td>\n",
              "      <td>520.241379</td>\n",
              "    </tr>\n",
              "    <tr>\n",
              "      <th>3</th>\n",
              "      <td>3347.500000</td>\n",
              "      <td>5007.000000</td>\n",
              "    </tr>\n",
              "  </tbody>\n",
              "</table>\n",
              "</div>"
            ],
            "text/plain": [
              "               likes     retweets\n",
              "cluster                          \n",
              "0           1.868193     0.522525\n",
              "1        9514.000000  2312.000000\n",
              "2        1896.206897   520.241379\n",
              "3        3347.500000  5007.000000"
            ]
          },
          "metadata": {
            "tags": []
          },
          "execution_count": 21
        }
      ]
    },
    {
      "cell_type": "markdown",
      "metadata": {
        "id": "DEPYh9jyqADv",
        "colab_type": "text"
      },
      "source": [
        "# Sentiment Analysis by Cluster"
      ]
    },
    {
      "cell_type": "code",
      "metadata": {
        "id": "S9V3UbT8qKw1",
        "colab_type": "code",
        "outputId": "4f0c1f38-526d-4c58-f6ea-762d3d9d61fc",
        "colab": {
          "base_uri": "https://localhost:8080/",
          "height": 100
        }
      },
      "source": [
        "pip install vaderSentiment"
      ],
      "execution_count": 22,
      "outputs": [
        {
          "output_type": "stream",
          "text": [
            "Collecting vaderSentiment\n",
            "\u001b[?25l  Downloading https://files.pythonhosted.org/packages/86/9e/c53e1fc61aac5ee490a6ac5e21b1ac04e55a7c2aba647bb8411c9aadf24e/vaderSentiment-3.2.1-py2.py3-none-any.whl (125kB)\n",
            "\r\u001b[K     |██▋                             | 10kB 16.7MB/s eta 0:00:01\r\u001b[K     |█████▏                          | 20kB 1.6MB/s eta 0:00:01\r\u001b[K     |███████▉                        | 30kB 2.4MB/s eta 0:00:01\r\u001b[K     |██████████▍                     | 40kB 1.6MB/s eta 0:00:01\r\u001b[K     |█████████████                   | 51kB 1.9MB/s eta 0:00:01\r\u001b[K     |███████████████▋                | 61kB 2.3MB/s eta 0:00:01\r\u001b[K     |██████████████████▎             | 71kB 2.7MB/s eta 0:00:01\r\u001b[K     |████████████████████▉           | 81kB 3.0MB/s eta 0:00:01\r\u001b[K     |███████████████████████▍        | 92kB 3.4MB/s eta 0:00:01\r\u001b[K     |██████████████████████████      | 102kB 2.6MB/s eta 0:00:01\r\u001b[K     |████████████████████████████▋   | 112kB 2.6MB/s eta 0:00:01\r\u001b[K     |███████████████████████████████▎| 122kB 2.6MB/s eta 0:00:01\r\u001b[K     |████████████████████████████████| 133kB 2.6MB/s \n",
            "\u001b[?25hInstalling collected packages: vaderSentiment\n",
            "Successfully installed vaderSentiment-3.2.1\n"
          ],
          "name": "stdout"
        }
      ]
    },
    {
      "cell_type": "code",
      "metadata": {
        "id": "KISF-KhijNLl",
        "colab_type": "code",
        "colab": {}
      },
      "source": [
        "from vaderSentiment.vaderSentiment import SentimentIntensityAnalyzer\n",
        "analyser = SentimentIntensityAnalyzer()"
      ],
      "execution_count": 0,
      "outputs": []
    },
    {
      "cell_type": "code",
      "metadata": {
        "id": "K3VJ7ZHYqG01",
        "colab_type": "code",
        "colab": {}
      },
      "source": [
        "def sentiment_analyzer_scores(sentence):\n",
        "    score = analyser.polarity_scores(sentence)\n",
        "    print(\"{:-<40} {}\".format(sentence, str(score)))"
      ],
      "execution_count": 0,
      "outputs": []
    },
    {
      "cell_type": "code",
      "metadata": {
        "id": "MPG2OxIvqdpU",
        "colab_type": "code",
        "outputId": "85faecc7-ab21-4280-f021-4627f2920b4d",
        "colab": {
          "base_uri": "https://localhost:8080/",
          "height": 33
        }
      },
      "source": [
        "## Getting the compounded sentiment score\n",
        "\n",
        "def getsentimentscore(s):\n",
        "  try:\n",
        "    score = analyser.polarity_scores(s)\n",
        "    return score['compound']   \n",
        "  except:\n",
        "    return 0\n",
        "\n",
        "df_tweets['sentiment_compounded'] = df_tweets['text'].map(getsentimentscore)\n",
        "df_tweets.shape"
      ],
      "execution_count": 25,
      "outputs": [
        {
          "output_type": "execute_result",
          "data": {
            "text/plain": [
              "(88914, 27)"
            ]
          },
          "metadata": {
            "tags": []
          },
          "execution_count": 25
        }
      ]
    },
    {
      "cell_type": "code",
      "metadata": {
        "id": "Kb9cTvvlqkdB",
        "colab_type": "code",
        "outputId": "66cce674-9822-48df-a689-f695ffa5637d",
        "colab": {
          "base_uri": "https://localhost:8080/",
          "height": 282
        }
      },
      "source": [
        "df_tweets.groupby('cluster')['sentiment_compounded'].agg('mean').plot(kind='barh')"
      ],
      "execution_count": 26,
      "outputs": [
        {
          "output_type": "execute_result",
          "data": {
            "text/plain": [
              "<matplotlib.axes._subplots.AxesSubplot at 0x7f1fc3d6c978>"
            ]
          },
          "metadata": {
            "tags": []
          },
          "execution_count": 26
        },
        {
          "output_type": "display_data",
          "data": {
            "image/png": "[encoded data removed]",
            "text/plain": [
              "<Figure size 432x288 with 1 Axes>"
            ]
          },
          "metadata": {
            "tags": []
          }
        }
      ]
    },
    {
      "cell_type": "code",
      "metadata": {
        "id": "YTL-38yjrFAQ",
        "colab_type": "code",
        "colab": {}
      },
      "source": [
        "df_after_news = df_tweets[df_tweets['date']>'2019-10-28']\n",
        "df_before_news = df_tweets[df_tweets['date']<='2019-10-28']"
      ],
      "execution_count": 0,
      "outputs": []
    },
    {
      "cell_type": "code",
      "metadata": {
        "id": "dGpIqAu8Twoe",
        "colab_type": "code",
        "colab": {
          "base_uri": "https://localhost:8080/",
          "height": 282
        },
        "outputId": "4b882321-5c43-460f-f208-7dbe41c3f13b"
      },
      "source": [
        "df_before_news.groupby('cluster')['sentiment_compounded'].agg('mean').plot(kind='barh')"
      ],
      "execution_count": 31,
      "outputs": [
        {
          "output_type": "execute_result",
          "data": {
            "text/plain": [
              "<matplotlib.axes._subplots.AxesSubplot at 0x7f1f9f65d518>"
            ]
          },
          "metadata": {
            "tags": []
          },
          "execution_count": 31
        },
        {
          "output_type": "display_data",
          "data": {
            "image/png": "[encoded data removed]",
            "text/plain": [
              "<Figure size 432x288 with 1 Axes>"
            ]
          },
          "metadata": {
            "tags": []
          }
        }
      ]
    },
    {
      "cell_type": "code",
      "metadata": {
        "id": "4IfceQq9UAtY",
        "colab_type": "code",
        "colab": {
          "base_uri": "https://localhost:8080/",
          "height": 282
        },
        "outputId": "b452f8b4-6270-43e8-c030-276f798e0f5b"
      },
      "source": [
        "df_after_news.groupby('cluster')['sentiment_compounded'].agg('mean').plot(kind='barh')"
      ],
      "execution_count": 32,
      "outputs": [
        {
          "output_type": "execute_result",
          "data": {
            "text/plain": [
              "<matplotlib.axes._subplots.AxesSubplot at 0x7f1f9f61b358>"
            ]
          },
          "metadata": {
            "tags": []
          },
          "execution_count": 32
        },
        {
          "output_type": "display_data",
          "data": {
            "image/png": "[encoded data removed]",
            "text/plain": [
              "<Figure size 432x288 with 1 Axes>"
            ]
          },
          "metadata": {
            "tags": []
          }
        }
      ]
    },
    {
      "cell_type": "code",
      "metadata": {
        "id": "4TydpkyIVz-o",
        "colab_type": "code",
        "colab": {
          "base_uri": "https://localhost:8080/",
          "height": 33
        },
        "outputId": "9ff4b9d4-564a-48b1-c81f-6c8359345a43"
      },
      "source": [
        "df_before_news['sentiment_compounded'].agg('mean')"
      ],
      "execution_count": 33,
      "outputs": [
        {
          "output_type": "execute_result",
          "data": {
            "text/plain": [
              "0.14303133449829916"
            ]
          },
          "metadata": {
            "tags": []
          },
          "execution_count": 33
        }
      ]
    },
    {
      "cell_type": "code",
      "metadata": {
        "id": "dnSg279TY1km",
        "colab_type": "code",
        "colab": {
          "base_uri": "https://localhost:8080/",
          "height": 33
        },
        "outputId": "f34aea57-ecb0-482b-9433-3d74af0a7f27"
      },
      "source": [
        "df_after_news['sentiment_compounded'].agg('mean')"
      ],
      "execution_count": 34,
      "outputs": [
        {
          "output_type": "execute_result",
          "data": {
            "text/plain": [
              "0.10577828281324714"
            ]
          },
          "metadata": {
            "tags": []
          },
          "execution_count": 34
        }
      ]
    },
    {
      "cell_type": "code",
      "metadata": {
        "id": "z-D7U08_Y8Oc",
        "colab_type": "code",
        "colab": {}
      },
      "source": [
        ""
      ],
      "execution_count": 0,
      "outputs": []
    }
  ]
}