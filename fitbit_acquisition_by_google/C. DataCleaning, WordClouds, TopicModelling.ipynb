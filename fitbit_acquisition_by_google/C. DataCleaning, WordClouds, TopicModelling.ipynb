{
  "nbformat": 4,
  "nbformat_minor": 0,
  "metadata": {
    "colab": {
      "name": "ProjectWorkings - A.ipynb",
      "provenance": [],
      "collapsed_sections": []
    },
    "kernelspec": {
      "name": "python3",
      "display_name": "Python 3"
    },
    "accelerator": "GPU"
  },
  "cells": [
    {
      "cell_type": "code",
      "metadata": {
        "id": "J3O-B0xGSsUe",
        "colab_type": "code",
        "colab": {
          "base_uri": "https://localhost:8080/",
          "height": 167
        },
        "outputId": "b5cfd13f-407b-4bbd-dcaa-d8b686ca4317"
      },
      "source": [
        "!pip install psaw\n",
        "import re\n",
        "import pandas as pd\n",
        "import datetime as dt\n",
        "from psaw import PushshiftAPI\n",
        "\n",
        "import warnings\n",
        "warnings.filterwarnings(\"ignore\")\n",
        "\n",
        "import matplotlib.pyplot as plt\n",
        "%matplotlib inline\n",
        "\n",
        "api = PushshiftAPI()"
      ],
      "execution_count": 1,
      "outputs": [
        {
          "output_type": "stream",
          "text": [
            "Collecting psaw\n",
            "  Downloading https://files.pythonhosted.org/packages/60/b7/6724defc12bdcc45470e2b1fc1b978367f3d183ec6c6baa2770a0b083fc7/psaw-0.0.7-py3-none-any.whl\n",
            "Requirement already satisfied: requests in /usr/local/lib/python3.6/dist-packages (from psaw) (2.21.0)\n",
            "Requirement already satisfied: chardet<3.1.0,>=3.0.2 in /usr/local/lib/python3.6/dist-packages (from requests->psaw) (3.0.4)\n",
            "Requirement already satisfied: certifi>=2017.4.17 in /usr/local/lib/python3.6/dist-packages (from requests->psaw) (2019.9.11)\n",
            "Requirement already satisfied: idna<2.9,>=2.5 in /usr/local/lib/python3.6/dist-packages (from requests->psaw) (2.8)\n",
            "Requirement already satisfied: urllib3<1.25,>=1.21.1 in /usr/local/lib/python3.6/dist-packages (from requests->psaw) (1.24.3)\n",
            "Installing collected packages: psaw\n",
            "Successfully installed psaw-0.0.7\n"
          ],
          "name": "stdout"
        }
      ]
    },
    {
      "cell_type": "markdown",
      "metadata": {
        "id": "0zvvWGwmopDM",
        "colab_type": "text"
      },
      "source": [
        "### **Getting Reddit data**\n"
      ]
    },
    {
      "cell_type": "code",
      "metadata": {
        "id": "UpBBLzYbT6Sh",
        "colab_type": "code",
        "colab": {}
      },
      "source": [
        "gen = api.search_comments(after=int(dt.datetime(2019, 10, 1).timestamp()),\n",
        "                             before = int(dt.datetime(2019, 11, 30).timestamp()),\n",
        "                             q = \"Fitbit\",\n",
        "                             limit = 10000)\n",
        "\n",
        "\n",
        "df_fitbit = pd.DataFrame([obj.d_ for obj in gen])"
      ],
      "execution_count": 0,
      "outputs": []
    },
    {
      "cell_type": "code",
      "metadata": {
        "id": "VHIKso-6UJxQ",
        "colab_type": "code",
        "colab": {
          "base_uri": "https://localhost:8080/",
          "height": 33
        },
        "outputId": "2333c492-6c30-4ea7-c3c6-27af00f6ded4"
      },
      "source": [
        "df_fitbit.shape"
      ],
      "execution_count": 3,
      "outputs": [
        {
          "output_type": "execute_result",
          "data": {
            "text/plain": [
              "(9116, 36)"
            ]
          },
          "metadata": {
            "tags": []
          },
          "execution_count": 3
        }
      ]
    },
    {
      "cell_type": "code",
      "metadata": {
        "id": "qrQTxvShVXSg",
        "colab_type": "code",
        "colab": {}
      },
      "source": [
        "## Adding a filter for comentions with Google, Apple, Samsung, Garmin\n",
        "\n",
        "df_fitbit['google_mention'] = df_fitbit['body'].str.contains('google', flags=re.IGNORECASE, regex=True)\n",
        "df_fitbit['apple_mention'] = df_fitbit['body'].str.contains('apple|iwatch', flags=re.IGNORECASE, regex=True)\n",
        "df_fitbit['samsung_mention'] = df_fitbit['body'].str.contains('samsung', flags=re.IGNORECASE, regex=True)\n",
        "df_fitbit['garmin_mention'] = df_fitbit['body'].str.contains('garmin', flags=re.IGNORECASE, regex=True)\n"
      ],
      "execution_count": 0,
      "outputs": []
    },
    {
      "cell_type": "code",
      "metadata": {
        "id": "2kI0nnwrXkR8",
        "colab_type": "code",
        "colab": {}
      },
      "source": [
        "## Adding the date column\n",
        "\n",
        "df_fitbit['date'] = pd.to_datetime(df_fitbit['created_utc'],unit='s')\n",
        "df_fitbit['date'] = df_fitbit['date'].dt.date"
      ],
      "execution_count": 0,
      "outputs": []
    },
    {
      "cell_type": "code",
      "metadata": {
        "id": "b1MrI5h7YSlp",
        "colab_type": "code",
        "colab": {
          "base_uri": "https://localhost:8080/",
          "height": 196
        },
        "outputId": "6a5a0e8c-e7b1-468b-9f77-fe28c9b89708"
      },
      "source": [
        "df_cleaned = df_fitbit[['date','author','body','subreddit','google_mention','apple_mention','samsung_mention','garmin_mention']]\n",
        "df_cleaned.head(5)"
      ],
      "execution_count": 6,
      "outputs": [
        {
          "output_type": "execute_result",
          "data": {
            "text/html": [
              "<div>\n",
              "<style scoped>\n",
              "    .dataframe tbody tr th:only-of-type {\n",
              "        vertical-align: middle;\n",
              "    }\n",
              "\n",
              "    .dataframe tbody tr th {\n",
              "        vertical-align: top;\n",
              "    }\n",
              "\n",
              "    .dataframe thead th {\n",
              "        text-align: right;\n",
              "    }\n",
              "</style>\n",
              "<table border=\"1\" class=\"dataframe\">\n",
              "  <thead>\n",
              "    <tr style=\"text-align: right;\">\n",
              "      <th></th>\n",
              "      <th>date</th>\n",
              "      <th>author</th>\n",
              "      <th>body</th>\n",
              "      <th>subreddit</th>\n",
              "      <th>google_mention</th>\n",
              "      <th>apple_mention</th>\n",
              "      <th>samsung_mention</th>\n",
              "      <th>garmin_mention</th>\n",
              "    </tr>\n",
              "  </thead>\n",
              "  <tbody>\n",
              "    <tr>\n",
              "      <th>0</th>\n",
              "      <td>2019-11-24</td>\n",
              "      <td>PaleoTS</td>\n",
              "      <td>Totally agree on the Fenix. I will never make ...</td>\n",
              "      <td>Garmin</td>\n",
              "      <td>False</td>\n",
              "      <td>False</td>\n",
              "      <td>False</td>\n",
              "      <td>True</td>\n",
              "    </tr>\n",
              "    <tr>\n",
              "      <th>1</th>\n",
              "      <td>2019-11-24</td>\n",
              "      <td>trusisbunny</td>\n",
              "      <td>Oh hey same phone.\\n\\nI got a really good deal...</td>\n",
              "      <td>Nurse</td>\n",
              "      <td>False</td>\n",
              "      <td>False</td>\n",
              "      <td>True</td>\n",
              "      <td>False</td>\n",
              "    </tr>\n",
              "    <tr>\n",
              "      <th>2</th>\n",
              "      <td>2019-11-24</td>\n",
              "      <td>The_Head_Shrinker</td>\n",
              "      <td>Goodness, I meant a generation that hasn't eve...</td>\n",
              "      <td>DunderMifflin</td>\n",
              "      <td>False</td>\n",
              "      <td>True</td>\n",
              "      <td>False</td>\n",
              "      <td>False</td>\n",
              "    </tr>\n",
              "    <tr>\n",
              "      <th>3</th>\n",
              "      <td>2019-11-24</td>\n",
              "      <td>miichelleest</td>\n",
              "      <td>Fitbit versa 2! I love mine</td>\n",
              "      <td>Nurse</td>\n",
              "      <td>False</td>\n",
              "      <td>False</td>\n",
              "      <td>False</td>\n",
              "      <td>False</td>\n",
              "    </tr>\n",
              "    <tr>\n",
              "      <th>4</th>\n",
              "      <td>2019-11-24</td>\n",
              "      <td>TheInstituteOfSteel</td>\n",
              "      <td>FitBit?</td>\n",
              "      <td>DunderMifflin</td>\n",
              "      <td>False</td>\n",
              "      <td>False</td>\n",
              "      <td>False</td>\n",
              "      <td>False</td>\n",
              "    </tr>\n",
              "  </tbody>\n",
              "</table>\n",
              "</div>"
            ],
            "text/plain": [
              "         date               author  ... samsung_mention garmin_mention\n",
              "0  2019-11-24              PaleoTS  ...           False           True\n",
              "1  2019-11-24          trusisbunny  ...            True          False\n",
              "2  2019-11-24    The_Head_Shrinker  ...           False          False\n",
              "3  2019-11-24         miichelleest  ...           False          False\n",
              "4  2019-11-24  TheInstituteOfSteel  ...           False          False\n",
              "\n",
              "[5 rows x 8 columns]"
            ]
          },
          "metadata": {
            "tags": []
          },
          "execution_count": 6
        }
      ]
    },
    {
      "cell_type": "code",
      "metadata": {
        "id": "LlWcALd7boq6",
        "colab_type": "code",
        "colab": {
          "base_uri": "https://localhost:8080/",
          "height": 388
        },
        "outputId": "c8c3c270-7ea8-4b9e-b846-697538f51d9c"
      },
      "source": [
        "### Trend of comentions between Fitbit and other brands\n",
        "\n",
        "plt.figure(figsize=(15,6))\n",
        "plt.plot(df_cleaned.groupby('date')['subreddit'].agg('count'), label = 'Overall Fitbit Mentions')\n",
        "plt.plot(df_cleaned[df_cleaned['google_mention'] == True].groupby('date')['subreddit'].agg('count'),label = 'Google Comentions' )\n",
        "plt.plot(df_cleaned[df_cleaned['apple_mention'] == True].groupby('date')['subreddit'].agg('count'),label = 'Apple Comentions' )\n",
        "plt.plot(df_cleaned[df_cleaned['samsung_mention'] == True].groupby('date')['subreddit'].agg('count'),label = 'Samsung Comentions' )\n",
        "plt.plot(df_cleaned[df_cleaned['garmin_mention'] == True].groupby('date')['subreddit'].agg('count'),label = 'Garmin Comentions' )\n",
        "plt.xlabel('Date')\n",
        "plt.ylabel('# Posts')\n",
        "plt.legend(loc = 'center left',bbox_to_anchor=(1, 0.5))\n",
        "plt.show()\n"
      ],
      "execution_count": 7,
      "outputs": [
        {
          "output_type": "display_data",
          "data": {
            "image/png": "[encoded data removed]",
            "text/plain": [
              "<Figure size 1080x432 with 1 Axes>"
            ]
          },
          "metadata": {
            "tags": []
          }
        }
      ]
    },
    {
      "cell_type": "markdown",
      "metadata": {
        "id": "qXr8LhZ_ozWB",
        "colab_type": "text"
      },
      "source": [
        "### **Getting Twitter Data** "
      ]
    },
    {
      "cell_type": "code",
      "metadata": {
        "id": "x3GSHaejqq5Z",
        "colab_type": "code",
        "colab": {
          "base_uri": "https://localhost:8080/",
          "height": 120
        },
        "outputId": "f1d7f5b4-76c1-4eea-9f92-746faa36ca64"
      },
      "source": [
        "from google.colab import drive\n",
        "drive.mount('/content/gdrive',force_remount= True)"
      ],
      "execution_count": 8,
      "outputs": [
        {
          "output_type": "stream",
          "text": [
            "Go to this URL in a browser: https://accounts.google.com/o/oauth2/auth?client_id=947318989803-6bn6qk8qdgf4n4g3pfee6491hc0brc4i.apps.googleusercontent.com&redirect_uri=urn%3aietf%3awg%3aoauth%3a2.0%3aoob&response_type=code&scope=email%20https%3a%2f%2fwww.googleapis.com%2fauth%2fdocs.test%20https%3a%2f%2fwww.googleapis.com%2fauth%2fdrive%20https%3a%2f%2fwww.googleapis.com%2fauth%2fdrive.photos.readonly%20https%3a%2f%2fwww.googleapis.com%2fauth%2fpeopleapi.readonly\n",
            "\n",
            "Enter your authorization code:\n",
            "··········\n",
            "Mounted at /content/gdrive\n"
          ],
          "name": "stdout"
        }
      ]
    },
    {
      "cell_type": "code",
      "metadata": {
        "colab_type": "code",
        "outputId": "df171259-a82a-496f-ef96-92200461507b",
        "id": "rks-U_LmLHMs",
        "colab": {
          "base_uri": "https://localhost:8080/",
          "height": 33
        }
      },
      "source": [
        "df_tweets = pd.read_csv('/content/gdrive/My Drive/Colab Notebooks/Text Analytics/Project/All_tweets_data.csv')\n",
        "df_tweets['text'] = df_tweets['text'].fillna('NA')\n",
        "df_tweets.shape\n"
      ],
      "execution_count": 9,
      "outputs": [
        {
          "output_type": "execute_result",
          "data": {
            "text/plain": [
              "(89007, 23)"
            ]
          },
          "metadata": {
            "tags": []
          },
          "execution_count": 9
        }
      ]
    },
    {
      "cell_type": "code",
      "metadata": {
        "colab_type": "code",
        "outputId": "5abbc3c5-8a45-4e80-d2a2-ab6b360a8f57",
        "id": "lnbcigMgLGao",
        "colab": {
          "base_uri": "https://localhost:8080/",
          "height": 33
        }
      },
      "source": [
        "df_tweets_cleaned = df_tweets[['likes','retweets','text','timestamp','date']]\n",
        "df_tweets_cleaned.shape"
      ],
      "execution_count": 10,
      "outputs": [
        {
          "output_type": "execute_result",
          "data": {
            "text/plain": [
              "(89007, 5)"
            ]
          },
          "metadata": {
            "tags": []
          },
          "execution_count": 10
        }
      ]
    },
    {
      "cell_type": "code",
      "metadata": {
        "colab_type": "code",
        "outputId": "1775d804-b8ad-481d-ad19-8d6303278246",
        "id": "BwyK_9mOLFu2",
        "colab": {
          "base_uri": "https://localhost:8080/",
          "height": 196
        }
      },
      "source": [
        "df_tweets_cleaned.head(5)"
      ],
      "execution_count": 11,
      "outputs": [
        {
          "output_type": "execute_result",
          "data": {
            "text/html": [
              "<div>\n",
              "<style scoped>\n",
              "    .dataframe tbody tr th:only-of-type {\n",
              "        vertical-align: middle;\n",
              "    }\n",
              "\n",
              "    .dataframe tbody tr th {\n",
              "        vertical-align: top;\n",
              "    }\n",
              "\n",
              "    .dataframe thead th {\n",
              "        text-align: right;\n",
              "    }\n",
              "</style>\n",
              "<table border=\"1\" class=\"dataframe\">\n",
              "  <thead>\n",
              "    <tr style=\"text-align: right;\">\n",
              "      <th></th>\n",
              "      <th>likes</th>\n",
              "      <th>retweets</th>\n",
              "      <th>text</th>\n",
              "      <th>timestamp</th>\n",
              "      <th>date</th>\n",
              "    </tr>\n",
              "  </thead>\n",
              "  <tbody>\n",
              "    <tr>\n",
              "      <th>0</th>\n",
              "      <td>0.0</td>\n",
              "      <td>0.0</td>\n",
              "      <td>Fitbit Versa Smart Watch - \"Special Edition\" -...</td>\n",
              "      <td>2019-10-27 23:58:38</td>\n",
              "      <td>2019-10-27</td>\n",
              "    </tr>\n",
              "    <tr>\n",
              "      <th>1</th>\n",
              "      <td>0.0</td>\n",
              "      <td>0.0</td>\n",
              "      <td>How did you do that? Do they have food diaries...</td>\n",
              "      <td>2019-10-27 23:58:20</td>\n",
              "      <td>2019-10-27</td>\n",
              "    </tr>\n",
              "    <tr>\n",
              "      <th>2</th>\n",
              "      <td>3.0</td>\n",
              "      <td>0.0</td>\n",
              "      <td>BUZZIN to set up my Fitbit and google everythi...</td>\n",
              "      <td>2019-10-27 23:55:38</td>\n",
              "      <td>2019-10-27</td>\n",
              "    </tr>\n",
              "    <tr>\n",
              "      <th>3</th>\n",
              "      <td>0.0</td>\n",
              "      <td>0.0</td>\n",
              "      <td>#fitbit #googlefit Top Weekly Games:</td>\n",
              "      <td>2019-10-27 23:55:06</td>\n",
              "      <td>2019-10-27</td>\n",
              "    </tr>\n",
              "    <tr>\n",
              "      <th>4</th>\n",
              "      <td>0.0</td>\n",
              "      <td>0.0</td>\n",
              "      <td>I earned a Fitbit Adjustment of 40 calories. #...</td>\n",
              "      <td>2019-10-27 23:54:14</td>\n",
              "      <td>2019-10-27</td>\n",
              "    </tr>\n",
              "  </tbody>\n",
              "</table>\n",
              "</div>"
            ],
            "text/plain": [
              "   likes  retweets  ...            timestamp        date\n",
              "0    0.0       0.0  ...  2019-10-27 23:58:38  2019-10-27\n",
              "1    0.0       0.0  ...  2019-10-27 23:58:20  2019-10-27\n",
              "2    3.0       0.0  ...  2019-10-27 23:55:38  2019-10-27\n",
              "3    0.0       0.0  ...  2019-10-27 23:55:06  2019-10-27\n",
              "4    0.0       0.0  ...  2019-10-27 23:54:14  2019-10-27\n",
              "\n",
              "[5 rows x 5 columns]"
            ]
          },
          "metadata": {
            "tags": []
          },
          "execution_count": 11
        }
      ]
    },
    {
      "cell_type": "code",
      "metadata": {
        "id": "6Em9yY7TCkvH",
        "colab_type": "code",
        "colab": {}
      },
      "source": [
        "from datetime import datetime,date\n",
        "\n",
        "def getdate(d):\n",
        "  if type(d) == str:\n",
        "    dt = d.split('-')\n",
        "    return datetime(int(dt[0]), int(dt[1]),int(dt[2])).date()\n",
        "  else:\n",
        "    return d\n",
        "\n",
        "df_tweets_cleaned['date'] = df_tweets_cleaned['date'].map(getdate)"
      ],
      "execution_count": 0,
      "outputs": []
    },
    {
      "cell_type": "code",
      "metadata": {
        "id": "Jz5v7BchF0Lc",
        "colab_type": "code",
        "colab": {
          "base_uri": "https://localhost:8080/",
          "height": 196
        },
        "outputId": "3b72f208-af1c-43b7-bf0a-451a2aa062a8"
      },
      "source": [
        "df_tweets_cleaned.head(5)"
      ],
      "execution_count": 13,
      "outputs": [
        {
          "output_type": "execute_result",
          "data": {
            "text/html": [
              "<div>\n",
              "<style scoped>\n",
              "    .dataframe tbody tr th:only-of-type {\n",
              "        vertical-align: middle;\n",
              "    }\n",
              "\n",
              "    .dataframe tbody tr th {\n",
              "        vertical-align: top;\n",
              "    }\n",
              "\n",
              "    .dataframe thead th {\n",
              "        text-align: right;\n",
              "    }\n",
              "</style>\n",
              "<table border=\"1\" class=\"dataframe\">\n",
              "  <thead>\n",
              "    <tr style=\"text-align: right;\">\n",
              "      <th></th>\n",
              "      <th>likes</th>\n",
              "      <th>retweets</th>\n",
              "      <th>text</th>\n",
              "      <th>timestamp</th>\n",
              "      <th>date</th>\n",
              "    </tr>\n",
              "  </thead>\n",
              "  <tbody>\n",
              "    <tr>\n",
              "      <th>0</th>\n",
              "      <td>0.0</td>\n",
              "      <td>0.0</td>\n",
              "      <td>Fitbit Versa Smart Watch - \"Special Edition\" -...</td>\n",
              "      <td>2019-10-27 23:58:38</td>\n",
              "      <td>2019-10-27</td>\n",
              "    </tr>\n",
              "    <tr>\n",
              "      <th>1</th>\n",
              "      <td>0.0</td>\n",
              "      <td>0.0</td>\n",
              "      <td>How did you do that? Do they have food diaries...</td>\n",
              "      <td>2019-10-27 23:58:20</td>\n",
              "      <td>2019-10-27</td>\n",
              "    </tr>\n",
              "    <tr>\n",
              "      <th>2</th>\n",
              "      <td>3.0</td>\n",
              "      <td>0.0</td>\n",
              "      <td>BUZZIN to set up my Fitbit and google everythi...</td>\n",
              "      <td>2019-10-27 23:55:38</td>\n",
              "      <td>2019-10-27</td>\n",
              "    </tr>\n",
              "    <tr>\n",
              "      <th>3</th>\n",
              "      <td>0.0</td>\n",
              "      <td>0.0</td>\n",
              "      <td>#fitbit #googlefit Top Weekly Games:</td>\n",
              "      <td>2019-10-27 23:55:06</td>\n",
              "      <td>2019-10-27</td>\n",
              "    </tr>\n",
              "    <tr>\n",
              "      <th>4</th>\n",
              "      <td>0.0</td>\n",
              "      <td>0.0</td>\n",
              "      <td>I earned a Fitbit Adjustment of 40 calories. #...</td>\n",
              "      <td>2019-10-27 23:54:14</td>\n",
              "      <td>2019-10-27</td>\n",
              "    </tr>\n",
              "  </tbody>\n",
              "</table>\n",
              "</div>"
            ],
            "text/plain": [
              "   likes  retweets  ...            timestamp        date\n",
              "0    0.0       0.0  ...  2019-10-27 23:58:38  2019-10-27\n",
              "1    0.0       0.0  ...  2019-10-27 23:58:20  2019-10-27\n",
              "2    3.0       0.0  ...  2019-10-27 23:55:38  2019-10-27\n",
              "3    0.0       0.0  ...  2019-10-27 23:55:06  2019-10-27\n",
              "4    0.0       0.0  ...  2019-10-27 23:54:14  2019-10-27\n",
              "\n",
              "[5 rows x 5 columns]"
            ]
          },
          "metadata": {
            "tags": []
          },
          "execution_count": 13
        }
      ]
    },
    {
      "cell_type": "code",
      "metadata": {
        "id": "uMumyjXLGPAu",
        "colab_type": "code",
        "colab": {}
      },
      "source": [
        "## Adding a filter for comentions with Google, Apple, Samsung, Garmin\n",
        "\n",
        "df_tweets_cleaned['google_mention'] = df_tweets_cleaned['text'].str.contains('google', flags=re.IGNORECASE, regex=True)\n",
        "df_tweets_cleaned['apple_mention'] = df_tweets_cleaned['text'].str.contains('apple|iwatch', flags=re.IGNORECASE, regex=True)\n",
        "df_tweets_cleaned['samsung_mention'] = df_tweets_cleaned['text'].str.contains('samsung', flags=re.IGNORECASE, regex=True)\n",
        "df_tweets_cleaned['garmin_mention'] = df_tweets_cleaned['text'].str.contains('garmin', flags=re.IGNORECASE, regex=True)\n",
        "\n"
      ],
      "execution_count": 0,
      "outputs": []
    },
    {
      "cell_type": "code",
      "metadata": {
        "id": "Jd3RzCynGT3G",
        "colab_type": "code",
        "colab": {
          "base_uri": "https://localhost:8080/",
          "height": 388
        },
        "outputId": "2377535c-cd53-4de3-e5c3-952c68978674"
      },
      "source": [
        "### Trend of comentions between Fitbit and other brands\n",
        "\n",
        "plt.figure(figsize=(15,6))\n",
        "plt.plot(df_tweets_cleaned.groupby('date')['text'].agg('count'), label = 'Overall Fitbit Mentions')\n",
        "plt.plot(df_tweets_cleaned[df_tweets_cleaned['google_mention'] == True].groupby('date')['text'].agg('count'),label = 'Google Comentions' )\n",
        "plt.plot(df_tweets_cleaned[df_tweets_cleaned['apple_mention'] == True].groupby('date')['text'].agg('count'),label = 'Apple Comentions' )\n",
        "plt.plot(df_tweets_cleaned[df_tweets_cleaned['samsung_mention'] == True].groupby('date')['text'].agg('count'),label = 'Samsung Comentions' )\n",
        "plt.plot(df_tweets_cleaned[df_tweets_cleaned['garmin_mention'] == True].groupby('date')['text'].agg('count'),label = 'Garmin Comentions' )\n",
        "plt.xlabel('Date')\n",
        "plt.ylabel('# Posts')\n",
        "plt.legend(loc = 'center left',bbox_to_anchor=(1, 0.5))\n",
        "plt.show()\n"
      ],
      "execution_count": 15,
      "outputs": [
        {
          "output_type": "display_data",
          "data": {
            "image/png": "[encoded data removed]",
            "text/plain": [
              "<Figure size 1080x432 with 1 Axes>"
            ]
          },
          "metadata": {
            "tags": []
          }
        }
      ]
    },
    {
      "cell_type": "markdown",
      "metadata": {
        "id": "uGdulrvyLMbJ",
        "colab_type": "text"
      },
      "source": [
        "### **Combining both the Twitter and Reddit data**"
      ]
    },
    {
      "cell_type": "code",
      "metadata": {
        "id": "QF3_F11yKxsI",
        "colab_type": "code",
        "colab": {
          "base_uri": "https://localhost:8080/",
          "height": 196
        },
        "outputId": "5df1beef-1a19-434a-bdec-720ccc097952"
      },
      "source": [
        "df_cleaned.head(5)"
      ],
      "execution_count": 16,
      "outputs": [
        {
          "output_type": "execute_result",
          "data": {
            "text/html": [
              "<div>\n",
              "<style scoped>\n",
              "    .dataframe tbody tr th:only-of-type {\n",
              "        vertical-align: middle;\n",
              "    }\n",
              "\n",
              "    .dataframe tbody tr th {\n",
              "        vertical-align: top;\n",
              "    }\n",
              "\n",
              "    .dataframe thead th {\n",
              "        text-align: right;\n",
              "    }\n",
              "</style>\n",
              "<table border=\"1\" class=\"dataframe\">\n",
              "  <thead>\n",
              "    <tr style=\"text-align: right;\">\n",
              "      <th></th>\n",
              "      <th>date</th>\n",
              "      <th>author</th>\n",
              "      <th>body</th>\n",
              "      <th>subreddit</th>\n",
              "      <th>google_mention</th>\n",
              "      <th>apple_mention</th>\n",
              "      <th>samsung_mention</th>\n",
              "      <th>garmin_mention</th>\n",
              "    </tr>\n",
              "  </thead>\n",
              "  <tbody>\n",
              "    <tr>\n",
              "      <th>0</th>\n",
              "      <td>2019-11-24</td>\n",
              "      <td>PaleoTS</td>\n",
              "      <td>Totally agree on the Fenix. I will never make ...</td>\n",
              "      <td>Garmin</td>\n",
              "      <td>False</td>\n",
              "      <td>False</td>\n",
              "      <td>False</td>\n",
              "      <td>True</td>\n",
              "    </tr>\n",
              "    <tr>\n",
              "      <th>1</th>\n",
              "      <td>2019-11-24</td>\n",
              "      <td>trusisbunny</td>\n",
              "      <td>Oh hey same phone.\\n\\nI got a really good deal...</td>\n",
              "      <td>Nurse</td>\n",
              "      <td>False</td>\n",
              "      <td>False</td>\n",
              "      <td>True</td>\n",
              "      <td>False</td>\n",
              "    </tr>\n",
              "    <tr>\n",
              "      <th>2</th>\n",
              "      <td>2019-11-24</td>\n",
              "      <td>The_Head_Shrinker</td>\n",
              "      <td>Goodness, I meant a generation that hasn't eve...</td>\n",
              "      <td>DunderMifflin</td>\n",
              "      <td>False</td>\n",
              "      <td>True</td>\n",
              "      <td>False</td>\n",
              "      <td>False</td>\n",
              "    </tr>\n",
              "    <tr>\n",
              "      <th>3</th>\n",
              "      <td>2019-11-24</td>\n",
              "      <td>miichelleest</td>\n",
              "      <td>Fitbit versa 2! I love mine</td>\n",
              "      <td>Nurse</td>\n",
              "      <td>False</td>\n",
              "      <td>False</td>\n",
              "      <td>False</td>\n",
              "      <td>False</td>\n",
              "    </tr>\n",
              "    <tr>\n",
              "      <th>4</th>\n",
              "      <td>2019-11-24</td>\n",
              "      <td>TheInstituteOfSteel</td>\n",
              "      <td>FitBit?</td>\n",
              "      <td>DunderMifflin</td>\n",
              "      <td>False</td>\n",
              "      <td>False</td>\n",
              "      <td>False</td>\n",
              "      <td>False</td>\n",
              "    </tr>\n",
              "  </tbody>\n",
              "</table>\n",
              "</div>"
            ],
            "text/plain": [
              "         date               author  ... samsung_mention garmin_mention\n",
              "0  2019-11-24              PaleoTS  ...           False           True\n",
              "1  2019-11-24          trusisbunny  ...            True          False\n",
              "2  2019-11-24    The_Head_Shrinker  ...           False          False\n",
              "3  2019-11-24         miichelleest  ...           False          False\n",
              "4  2019-11-24  TheInstituteOfSteel  ...           False          False\n",
              "\n",
              "[5 rows x 8 columns]"
            ]
          },
          "metadata": {
            "tags": []
          },
          "execution_count": 16
        }
      ]
    },
    {
      "cell_type": "code",
      "metadata": {
        "id": "sKWCsvO3LYhg",
        "colab_type": "code",
        "colab": {
          "base_uri": "https://localhost:8080/",
          "height": 196
        },
        "outputId": "9002b762-aafc-4df0-e3fe-508108f095dc"
      },
      "source": [
        "df_tweets_cleaned.head(5)"
      ],
      "execution_count": 17,
      "outputs": [
        {
          "output_type": "execute_result",
          "data": {
            "text/html": [
              "<div>\n",
              "<style scoped>\n",
              "    .dataframe tbody tr th:only-of-type {\n",
              "        vertical-align: middle;\n",
              "    }\n",
              "\n",
              "    .dataframe tbody tr th {\n",
              "        vertical-align: top;\n",
              "    }\n",
              "\n",
              "    .dataframe thead th {\n",
              "        text-align: right;\n",
              "    }\n",
              "</style>\n",
              "<table border=\"1\" class=\"dataframe\">\n",
              "  <thead>\n",
              "    <tr style=\"text-align: right;\">\n",
              "      <th></th>\n",
              "      <th>likes</th>\n",
              "      <th>retweets</th>\n",
              "      <th>text</th>\n",
              "      <th>timestamp</th>\n",
              "      <th>date</th>\n",
              "      <th>google_mention</th>\n",
              "      <th>apple_mention</th>\n",
              "      <th>samsung_mention</th>\n",
              "      <th>garmin_mention</th>\n",
              "    </tr>\n",
              "  </thead>\n",
              "  <tbody>\n",
              "    <tr>\n",
              "      <th>0</th>\n",
              "      <td>0.0</td>\n",
              "      <td>0.0</td>\n",
              "      <td>Fitbit Versa Smart Watch - \"Special Edition\" -...</td>\n",
              "      <td>2019-10-27 23:58:38</td>\n",
              "      <td>2019-10-27</td>\n",
              "      <td>False</td>\n",
              "      <td>False</td>\n",
              "      <td>False</td>\n",
              "      <td>False</td>\n",
              "    </tr>\n",
              "    <tr>\n",
              "      <th>1</th>\n",
              "      <td>0.0</td>\n",
              "      <td>0.0</td>\n",
              "      <td>How did you do that? Do they have food diaries...</td>\n",
              "      <td>2019-10-27 23:58:20</td>\n",
              "      <td>2019-10-27</td>\n",
              "      <td>False</td>\n",
              "      <td>False</td>\n",
              "      <td>False</td>\n",
              "      <td>False</td>\n",
              "    </tr>\n",
              "    <tr>\n",
              "      <th>2</th>\n",
              "      <td>3.0</td>\n",
              "      <td>0.0</td>\n",
              "      <td>BUZZIN to set up my Fitbit and google everythi...</td>\n",
              "      <td>2019-10-27 23:55:38</td>\n",
              "      <td>2019-10-27</td>\n",
              "      <td>True</td>\n",
              "      <td>False</td>\n",
              "      <td>False</td>\n",
              "      <td>False</td>\n",
              "    </tr>\n",
              "    <tr>\n",
              "      <th>3</th>\n",
              "      <td>0.0</td>\n",
              "      <td>0.0</td>\n",
              "      <td>#fitbit #googlefit Top Weekly Games:</td>\n",
              "      <td>2019-10-27 23:55:06</td>\n",
              "      <td>2019-10-27</td>\n",
              "      <td>True</td>\n",
              "      <td>False</td>\n",
              "      <td>False</td>\n",
              "      <td>False</td>\n",
              "    </tr>\n",
              "    <tr>\n",
              "      <th>4</th>\n",
              "      <td>0.0</td>\n",
              "      <td>0.0</td>\n",
              "      <td>I earned a Fitbit Adjustment of 40 calories. #...</td>\n",
              "      <td>2019-10-27 23:54:14</td>\n",
              "      <td>2019-10-27</td>\n",
              "      <td>False</td>\n",
              "      <td>False</td>\n",
              "      <td>False</td>\n",
              "      <td>False</td>\n",
              "    </tr>\n",
              "  </tbody>\n",
              "</table>\n",
              "</div>"
            ],
            "text/plain": [
              "   likes  retweets  ... samsung_mention garmin_mention\n",
              "0    0.0       0.0  ...           False          False\n",
              "1    0.0       0.0  ...           False          False\n",
              "2    3.0       0.0  ...           False          False\n",
              "3    0.0       0.0  ...           False          False\n",
              "4    0.0       0.0  ...           False          False\n",
              "\n",
              "[5 rows x 9 columns]"
            ]
          },
          "metadata": {
            "tags": []
          },
          "execution_count": 17
        }
      ]
    },
    {
      "cell_type": "code",
      "metadata": {
        "id": "z3gBjt2xLdoy",
        "colab_type": "code",
        "colab": {
          "base_uri": "https://localhost:8080/",
          "height": 50
        },
        "outputId": "da84c0dd-21da-479c-d464-057da13eeb51"
      },
      "source": [
        "df_main1 = df_cleaned[['date','body','google_mention','apple_mention','samsung_mention','garmin_mention']]\n",
        "print(df_main1.shape)\n",
        "\n",
        "df_main2 = df_tweets_cleaned[['date','text','google_mention','apple_mention','samsung_mention','garmin_mention']]\n",
        "df_main2 = df_main2.rename(columns={\"text\": \"body\"})\n",
        "print(df_main2.shape)"
      ],
      "execution_count": 18,
      "outputs": [
        {
          "output_type": "stream",
          "text": [
            "(9116, 6)\n",
            "(89007, 6)\n"
          ],
          "name": "stdout"
        }
      ]
    },
    {
      "cell_type": "code",
      "metadata": {
        "id": "IfjnmSTRLsbh",
        "colab_type": "code",
        "colab": {
          "base_uri": "https://localhost:8080/",
          "height": 33
        },
        "outputId": "efdd3b6d-6d92-454b-d992-e03766ef7fc6"
      },
      "source": [
        "df_main = pd.concat([df_main1, df_main2], axis=0, sort=False)\n",
        "df_main = df_main.reset_index()\n",
        "df_main = df_main.drop(columns=\"index\")\n",
        "df_main.shape"
      ],
      "execution_count": 19,
      "outputs": [
        {
          "output_type": "execute_result",
          "data": {
            "text/plain": [
              "(98123, 6)"
            ]
          },
          "metadata": {
            "tags": []
          },
          "execution_count": 19
        }
      ]
    },
    {
      "cell_type": "code",
      "metadata": {
        "id": "DNoRfgCjMtH6",
        "colab_type": "code",
        "colab": {}
      },
      "source": [
        "## Adding a flag for dates\n",
        "## Before the news (till 27th Oct) - the flag is 0\n",
        "## During the peak period (28th Oct - 2nd Nov) - the flag is 1\n",
        "## After the peak - the flag is 2\n",
        "\n",
        "def dateflag(d):\n",
        "  if type(d) == float:\n",
        "    return 0\n",
        "  else:\n",
        "\n",
        "    if d >= datetime(2019,10,28).date() and d <= datetime(2019,11,2).date() :\n",
        "      return 1\n",
        "    elif d >= datetime(2019,11,3).date():\n",
        "      return 2\n",
        "    else:\n",
        "      return 0\n",
        "\n",
        "df_main['after_news'] = df_main['date'].map(dateflag) "
      ],
      "execution_count": 0,
      "outputs": []
    },
    {
      "cell_type": "code",
      "metadata": {
        "id": "mIs9KNJSVqXP",
        "colab_type": "code",
        "colab": {
          "base_uri": "https://localhost:8080/",
          "height": 50
        },
        "outputId": "b3108522-e040-4b97-e608-60e4ba175ab6"
      },
      "source": [
        "## Cleaning the text\n",
        "# https://www.dataquest.io/blog/tutorial-text-classification-in-python-using-spacy/\n",
        "\n",
        "import spacy\n",
        "import nltk\n",
        "import string\n",
        "from spacy.lang.en import English\n",
        "nlp = English()\n",
        "nltk.download('punkt')\n",
        "spacy_stopwords = spacy.lang.en.stop_words.STOP_WORDS\n",
        "\n",
        "\n",
        "def getclean(s):\n",
        "  try:\n",
        "    s = s.lower()\n",
        "\n",
        "    \n",
        "    ## tokenization\n",
        "    s = nlp(s)\n",
        "    token_list = []\n",
        "    for token in s:\n",
        "      token_list.append(token.text)\n",
        "    \n",
        "    updated_s = []\n",
        "    for w in token_list:\n",
        "      w = w.lstrip().rstrip()\n",
        "      updated_s.append(w)\n",
        "\n",
        "    ## removing bad characters\n",
        "    new_list = []\n",
        "    for w in updated_s:\n",
        "      if '\\n' in w or '\\xa0' in w or '..' in w or '!' in w or '。' in w or \"  \" in w or \"“\" in w or \"…\" in w :\n",
        "        continue\n",
        "      else:\n",
        "        new_list.append(w)\n",
        "    \n",
        "    ## removing numbers\n",
        "    non_numbers = []\n",
        "    for w in new_list:\n",
        "      try:\n",
        "        float(w)\n",
        "      except:\n",
        "        non_numbers.append(w)\n",
        "\n",
        "\n",
        "    ## removing stopwords\n",
        "    filtered_words=[]\n",
        "    for word in non_numbers:\n",
        "      if word in spacy_stopwords:\n",
        "        continue\n",
        "      else:\n",
        "          filtered_words.append(word)\n",
        "\n",
        "    ## lemmatization\n",
        "    doc = nlp(' '.join(filtered_words))\n",
        "    lemmatized = []\n",
        "    for word in doc:\n",
        "      lemmatized.append(word.lemma_)\n",
        "    \n",
        "\n",
        "    ## removing punctuations\n",
        "    final_list =  []\n",
        "    for w in lemmatized:\n",
        "      w_clean = w.translate(str.maketrans('', '',string.punctuation))\n",
        "      if len(w_clean) >=3:\n",
        "        final_list.append(w_clean)\n",
        "    \n",
        "    return final_list\n",
        "  \n",
        "  except:\n",
        "    return s\n",
        "\n",
        "\n",
        "df_main['cleaned_text'] = df_main['body'].map(getclean)\n"
      ],
      "execution_count": 22,
      "outputs": [
        {
          "output_type": "stream",
          "text": [
            "[nltk_data] Downloading package punkt to /root/nltk_data...\n",
            "[nltk_data]   Unzipping tokenizers/punkt.zip.\n"
          ],
          "name": "stdout"
        }
      ]
    },
    {
      "cell_type": "code",
      "metadata": {
        "id": "-ipOjnDpWnID",
        "colab_type": "code",
        "colab": {
          "base_uri": "https://localhost:8080/",
          "height": 280
        },
        "outputId": "17516781-5145-4605-d94a-1af3c1ebecab"
      },
      "source": [
        "df_main.head(5)"
      ],
      "execution_count": 23,
      "outputs": [
        {
          "output_type": "execute_result",
          "data": {
            "text/html": [
              "<div>\n",
              "<style scoped>\n",
              "    .dataframe tbody tr th:only-of-type {\n",
              "        vertical-align: middle;\n",
              "    }\n",
              "\n",
              "    .dataframe tbody tr th {\n",
              "        vertical-align: top;\n",
              "    }\n",
              "\n",
              "    .dataframe thead th {\n",
              "        text-align: right;\n",
              "    }\n",
              "</style>\n",
              "<table border=\"1\" class=\"dataframe\">\n",
              "  <thead>\n",
              "    <tr style=\"text-align: right;\">\n",
              "      <th></th>\n",
              "      <th>date</th>\n",
              "      <th>body</th>\n",
              "      <th>google_mention</th>\n",
              "      <th>apple_mention</th>\n",
              "      <th>samsung_mention</th>\n",
              "      <th>garmin_mention</th>\n",
              "      <th>after_news</th>\n",
              "      <th>cleaned_text</th>\n",
              "    </tr>\n",
              "  </thead>\n",
              "  <tbody>\n",
              "    <tr>\n",
              "      <th>0</th>\n",
              "      <td>2019-11-24</td>\n",
              "      <td>Totally agree on the Fenix. I will never make ...</td>\n",
              "      <td>False</td>\n",
              "      <td>False</td>\n",
              "      <td>False</td>\n",
              "      <td>True</td>\n",
              "      <td>2</td>\n",
              "      <td>[totally, agree, fenix, argument, worth, far, ...</td>\n",
              "    </tr>\n",
              "    <tr>\n",
              "      <th>1</th>\n",
              "      <td>2019-11-24</td>\n",
              "      <td>Oh hey same phone.\\n\\nI got a really good deal...</td>\n",
              "      <td>False</td>\n",
              "      <td>False</td>\n",
              "      <td>True</td>\n",
              "      <td>False</td>\n",
              "      <td>2</td>\n",
              "      <td>[hey, phone, get, good, deal, samsung, galaxy,...</td>\n",
              "    </tr>\n",
              "    <tr>\n",
              "      <th>2</th>\n",
              "      <td>2019-11-24</td>\n",
              "      <td>Goodness, I meant a generation that hasn't eve...</td>\n",
              "      <td>False</td>\n",
              "      <td>True</td>\n",
              "      <td>False</td>\n",
              "      <td>False</td>\n",
              "      <td>2</td>\n",
              "      <td>[goodness, mean, generation, bear, fact, reaso...</td>\n",
              "    </tr>\n",
              "    <tr>\n",
              "      <th>3</th>\n",
              "      <td>2019-11-24</td>\n",
              "      <td>Fitbit versa 2! I love mine</td>\n",
              "      <td>False</td>\n",
              "      <td>False</td>\n",
              "      <td>False</td>\n",
              "      <td>False</td>\n",
              "      <td>2</td>\n",
              "      <td>[fitbit, versa, love]</td>\n",
              "    </tr>\n",
              "    <tr>\n",
              "      <th>4</th>\n",
              "      <td>2019-11-24</td>\n",
              "      <td>FitBit?</td>\n",
              "      <td>False</td>\n",
              "      <td>False</td>\n",
              "      <td>False</td>\n",
              "      <td>False</td>\n",
              "      <td>2</td>\n",
              "      <td>[fitbit]</td>\n",
              "    </tr>\n",
              "  </tbody>\n",
              "</table>\n",
              "</div>"
            ],
            "text/plain": [
              "         date  ...                                       cleaned_text\n",
              "0  2019-11-24  ...  [totally, agree, fenix, argument, worth, far, ...\n",
              "1  2019-11-24  ...  [hey, phone, get, good, deal, samsung, galaxy,...\n",
              "2  2019-11-24  ...  [goodness, mean, generation, bear, fact, reaso...\n",
              "3  2019-11-24  ...                              [fitbit, versa, love]\n",
              "4  2019-11-24  ...                                           [fitbit]\n",
              "\n",
              "[5 rows x 8 columns]"
            ]
          },
          "metadata": {
            "tags": []
          },
          "execution_count": 23
        }
      ]
    },
    {
      "cell_type": "markdown",
      "metadata": {
        "id": "v3dJVdAZiWKD",
        "colab_type": "text"
      },
      "source": [
        "### **Word Clouds**\n",
        "\n",
        "https://www.datacamp.com/community/tutorials/wordcloud-python"
      ]
    },
    {
      "cell_type": "code",
      "metadata": {
        "id": "4DPJMmKZiZY7",
        "colab_type": "code",
        "colab": {}
      },
      "source": [
        "from PIL import Image\n",
        "from wordcloud import WordCloud, STOPWORDS, ImageColorGenerator"
      ],
      "execution_count": 0,
      "outputs": []
    },
    {
      "cell_type": "code",
      "metadata": {
        "id": "efJ3sCAoi9rb",
        "colab_type": "code",
        "colab": {
          "base_uri": "https://localhost:8080/",
          "height": 313
        },
        "outputId": "9ca530dd-f2bd-4cae-eba9-9d54bcf96b32"
      },
      "source": [
        "def getstr(l):\n",
        "  try:\n",
        "    return ' '.join(l)\n",
        "  except:\n",
        "    return l\n",
        "\n",
        "df_main['cleaned_string'] = df_main['cleaned_text'].map(getstr)\n",
        "df_main.head(5)"
      ],
      "execution_count": 25,
      "outputs": [
        {
          "output_type": "execute_result",
          "data": {
            "text/html": [
              "<div>\n",
              "<style scoped>\n",
              "    .dataframe tbody tr th:only-of-type {\n",
              "        vertical-align: middle;\n",
              "    }\n",
              "\n",
              "    .dataframe tbody tr th {\n",
              "        vertical-align: top;\n",
              "    }\n",
              "\n",
              "    .dataframe thead th {\n",
              "        text-align: right;\n",
              "    }\n",
              "</style>\n",
              "<table border=\"1\" class=\"dataframe\">\n",
              "  <thead>\n",
              "    <tr style=\"text-align: right;\">\n",
              "      <th></th>\n",
              "      <th>date</th>\n",
              "      <th>body</th>\n",
              "      <th>google_mention</th>\n",
              "      <th>apple_mention</th>\n",
              "      <th>samsung_mention</th>\n",
              "      <th>garmin_mention</th>\n",
              "      <th>after_news</th>\n",
              "      <th>cleaned_text</th>\n",
              "      <th>cleaned_string</th>\n",
              "    </tr>\n",
              "  </thead>\n",
              "  <tbody>\n",
              "    <tr>\n",
              "      <th>0</th>\n",
              "      <td>2019-11-24</td>\n",
              "      <td>Totally agree on the Fenix. I will never make ...</td>\n",
              "      <td>False</td>\n",
              "      <td>False</td>\n",
              "      <td>False</td>\n",
              "      <td>True</td>\n",
              "      <td>2</td>\n",
              "      <td>[totally, agree, fenix, argument, worth, far, ...</td>\n",
              "      <td>totally agree fenix argument worth far happy a...</td>\n",
              "    </tr>\n",
              "    <tr>\n",
              "      <th>1</th>\n",
              "      <td>2019-11-24</td>\n",
              "      <td>Oh hey same phone.\\n\\nI got a really good deal...</td>\n",
              "      <td>False</td>\n",
              "      <td>False</td>\n",
              "      <td>True</td>\n",
              "      <td>False</td>\n",
              "      <td>2</td>\n",
              "      <td>[hey, phone, get, good, deal, samsung, galaxy,...</td>\n",
              "      <td>hey phone get good deal samsung galaxy watch r...</td>\n",
              "    </tr>\n",
              "    <tr>\n",
              "      <th>2</th>\n",
              "      <td>2019-11-24</td>\n",
              "      <td>Goodness, I meant a generation that hasn't eve...</td>\n",
              "      <td>False</td>\n",
              "      <td>True</td>\n",
              "      <td>False</td>\n",
              "      <td>False</td>\n",
              "      <td>2</td>\n",
              "      <td>[goodness, mean, generation, bear, fact, reaso...</td>\n",
              "      <td>goodness mean generation bear fact reason post...</td>\n",
              "    </tr>\n",
              "    <tr>\n",
              "      <th>3</th>\n",
              "      <td>2019-11-24</td>\n",
              "      <td>Fitbit versa 2! I love mine</td>\n",
              "      <td>False</td>\n",
              "      <td>False</td>\n",
              "      <td>False</td>\n",
              "      <td>False</td>\n",
              "      <td>2</td>\n",
              "      <td>[fitbit, versa, love]</td>\n",
              "      <td>fitbit versa love</td>\n",
              "    </tr>\n",
              "    <tr>\n",
              "      <th>4</th>\n",
              "      <td>2019-11-24</td>\n",
              "      <td>FitBit?</td>\n",
              "      <td>False</td>\n",
              "      <td>False</td>\n",
              "      <td>False</td>\n",
              "      <td>False</td>\n",
              "      <td>2</td>\n",
              "      <td>[fitbit]</td>\n",
              "      <td>fitbit</td>\n",
              "    </tr>\n",
              "  </tbody>\n",
              "</table>\n",
              "</div>"
            ],
            "text/plain": [
              "         date  ...                                     cleaned_string\n",
              "0  2019-11-24  ...  totally agree fenix argument worth far happy a...\n",
              "1  2019-11-24  ...  hey phone get good deal samsung galaxy watch r...\n",
              "2  2019-11-24  ...  goodness mean generation bear fact reason post...\n",
              "3  2019-11-24  ...                                  fitbit versa love\n",
              "4  2019-11-24  ...                                             fitbit\n",
              "\n",
              "[5 rows x 9 columns]"
            ]
          },
          "metadata": {
            "tags": []
          },
          "execution_count": 25
        }
      ]
    },
    {
      "cell_type": "code",
      "metadata": {
        "id": "kwUF5CrBrG89",
        "colab_type": "code",
        "colab": {}
      },
      "source": [
        "## Before the acquisition was announced\n",
        "\n",
        "text_before_news = df_main[df_main['after_news'] == 0]['cleaned_string'].sum()\n"
      ],
      "execution_count": 0,
      "outputs": []
    },
    {
      "cell_type": "code",
      "metadata": {
        "id": "FMZF9cCIifBM",
        "colab_type": "code",
        "colab": {
          "base_uri": "https://localhost:8080/",
          "height": 198
        },
        "outputId": "68c2d3b3-11c5-4f6a-cecc-cf7a992e6d4a"
      },
      "source": [
        "wordcloud = WordCloud(max_font_size=50, max_words=100, background_color=\"white\",collocations=True).generate(text_before_news)\n",
        "plt.figure()\n",
        "plt.imshow(wordcloud, interpolation=\"bilinear\")\n",
        "plt.axis(\"off\")\n",
        "plt.show()"
      ],
      "execution_count": 34,
      "outputs": [
        {
          "output_type": "display_data",
          "data": {
            "image/png": "[encoded data removed]",
            "text/plain": [
              "<Figure size 432x288 with 1 Axes>"
            ]
          },
          "metadata": {
            "tags": []
          }
        }
      ]
    },
    {
      "cell_type": "code",
      "metadata": {
        "id": "4Wjaho1zvc8K",
        "colab_type": "code",
        "colab": {
          "base_uri": "https://localhost:8080/",
          "height": 33
        },
        "outputId": "e6ed3046-61bf-49e0-c5d9-ad2f9b03fdc5"
      },
      "source": [
        "wordcloud.to_file(\"/content/gdrive/My Drive/Colab Notebooks/Text Analytics/Project/before_news_wordcloud.png\")"
      ],
      "execution_count": 28,
      "outputs": [
        {
          "output_type": "execute_result",
          "data": {
            "text/plain": [
              "<wordcloud.wordcloud.WordCloud at 0x7f891820d940>"
            ]
          },
          "metadata": {
            "tags": []
          },
          "execution_count": 28
        }
      ]
    },
    {
      "cell_type": "code",
      "metadata": {
        "id": "06LCE84YrQoD",
        "colab_type": "code",
        "colab": {}
      },
      "source": [
        "## When the acquisition was announced\n",
        "\n",
        "text_after_news = df_main[df_main['after_news'] == 1]['cleaned_string'].sum()\n"
      ],
      "execution_count": 0,
      "outputs": []
    },
    {
      "cell_type": "code",
      "metadata": {
        "id": "4gyhTX5krmr9",
        "colab_type": "code",
        "colab": {
          "base_uri": "https://localhost:8080/",
          "height": 198
        },
        "outputId": "adceb4ba-64f9-40c0-e4a4-f3b75a553dba"
      },
      "source": [
        "wordcloud = WordCloud(max_font_size=50, max_words=100, background_color=\"white\",collocations=True).generate(text_after_news)\n",
        "plt.figure()\n",
        "plt.imshow(wordcloud, interpolation=\"bilinear\")\n",
        "plt.axis(\"off\")\n",
        "plt.show()"
      ],
      "execution_count": 47,
      "outputs": [
        {
          "output_type": "display_data",
          "data": {
            "image/png": "[encoded data removed]",
            "text/plain": [
              "<Figure size 432x288 with 1 Axes>"
            ]
          },
          "metadata": {
            "tags": []
          }
        }
      ]
    },
    {
      "cell_type": "code",
      "metadata": {
        "id": "2oQo00ajvnzE",
        "colab_type": "code",
        "colab": {
          "base_uri": "https://localhost:8080/",
          "height": 33
        },
        "outputId": "9b3acf23-021e-46a5-a5c5-ec4351ebb939"
      },
      "source": [
        "wordcloud.to_file(\"/content/gdrive/My Drive/Colab Notebooks/Text Analytics/Project/after_news_wordcloud.png\")"
      ],
      "execution_count": 31,
      "outputs": [
        {
          "output_type": "execute_result",
          "data": {
            "text/plain": [
              "<wordcloud.wordcloud.WordCloud at 0x7f89168ec470>"
            ]
          },
          "metadata": {
            "tags": []
          },
          "execution_count": 31
        }
      ]
    },
    {
      "cell_type": "code",
      "metadata": {
        "id": "lZViktesrgrd",
        "colab_type": "code",
        "colab": {}
      },
      "source": [
        "## After the acquisition was announced\n",
        "\n",
        "text_later = df_main[df_main['after_news'] == 2]['cleaned_string'].sum()\n"
      ],
      "execution_count": 0,
      "outputs": []
    },
    {
      "cell_type": "code",
      "metadata": {
        "id": "sUjVggUVrg9w",
        "colab_type": "code",
        "colab": {
          "base_uri": "https://localhost:8080/",
          "height": 198
        },
        "outputId": "7fe38e73-276a-40d4-9770-2ecb4261447f"
      },
      "source": [
        "wordcloud = WordCloud(max_font_size=50, max_words=100, background_color=\"white\",collocations=True).generate(text_later)\n",
        "plt.figure()\n",
        "plt.imshow(wordcloud, interpolation=\"bilinear\")\n",
        "plt.axis(\"off\")\n",
        "plt.show()"
      ],
      "execution_count": 46,
      "outputs": [
        {
          "output_type": "display_data",
          "data": {
            "image/png": "[encoded data removed]",
            "text/plain": [
              "<Figure size 432x288 with 1 Axes>"
            ]
          },
          "metadata": {
            "tags": []
          }
        }
      ]
    },
    {
      "cell_type": "code",
      "metadata": {
        "id": "PszeDeIBrhEq",
        "colab_type": "code",
        "colab": {
          "base_uri": "https://localhost:8080/",
          "height": 33
        },
        "outputId": "92dc7a4b-2272-47f8-a542-c2a8ae83ae94"
      },
      "source": [
        "wordcloud.to_file(\"/content/gdrive/My Drive/Colab Notebooks/Text Analytics/Project/after_peak_wordcloud.png\")"
      ],
      "execution_count": 48,
      "outputs": [
        {
          "output_type": "execute_result",
          "data": {
            "text/plain": [
              "<wordcloud.wordcloud.WordCloud at 0x7f89157c3eb8>"
            ]
          },
          "metadata": {
            "tags": []
          },
          "execution_count": 48
        }
      ]
    },
    {
      "cell_type": "markdown",
      "metadata": {
        "id": "rnx9qu2Ls3Lq",
        "colab_type": "text"
      },
      "source": [
        "### **Observations from the Word Cloud**:\n",
        "\n",
        "1.   In the pre-period, people are mostly talking about Fitbit features and the      app\n",
        "2.   In the peak-period, the entire talk is about the acquisition and Google.        We see 'Apple Watch' entering the conversations.\n",
        "3.   In the post-period, although most of the talk is still about the acquisition, we do see conversations about the Fitbit features coming up \n",
        "\n"
      ]
    },
    {
      "cell_type": "markdown",
      "metadata": {
        "id": "QPYr0j9PUbJX",
        "colab_type": "text"
      },
      "source": [
        "### **Topic Modelling- Before, During and After**"
      ]
    },
    {
      "cell_type": "code",
      "metadata": {
        "id": "-ir4jLDefiGf",
        "colab_type": "code",
        "colab": {}
      },
      "source": [
        "import gensim\n",
        "from gensim.utils import simple_preprocess\n",
        "from gensim.test.utils import common_corpus, common_dictionary\n"
      ],
      "execution_count": 0,
      "outputs": []
    },
    {
      "cell_type": "code",
      "metadata": {
        "id": "VwMSjkIDhw4-",
        "colab_type": "code",
        "colab": {}
      },
      "source": [
        "## Before announcement\n",
        "\n",
        "dictionary_before = gensim.corpora.Dictionary(df_main[df_main['after_news'] == 0].cleaned_text)\n",
        "\n",
        "dictionary_before.filter_extremes(no_below=1, no_above=0.7) #, keep_n=100000)"
      ],
      "execution_count": 0,
      "outputs": []
    },
    {
      "cell_type": "code",
      "metadata": {
        "id": "fyZTHsIOlbSW",
        "colab_type": "code",
        "colab": {}
      },
      "source": [
        "bow_corpus_before = [dictionary_before.doc2bow(words) for words in df_main[df_main['after_news'] == 0].cleaned_text]\n"
      ],
      "execution_count": 0,
      "outputs": []
    },
    {
      "cell_type": "code",
      "metadata": {
        "id": "AmgZEWdyzcu9",
        "colab_type": "code",
        "colab": {}
      },
      "source": [
        "lda_model_before = gensim.models.LdaMulticore(bow_corpus_before, num_topics=6, id2word=dictionary_before, passes=2, workers=2, chunksize=100, random_state=1000)\n"
      ],
      "execution_count": 0,
      "outputs": []
    },
    {
      "cell_type": "code",
      "metadata": {
        "id": "MIyl_n71zjR3",
        "colab_type": "code",
        "colab": {
          "base_uri": "https://localhost:8080/",
          "height": 435
        },
        "outputId": "8ad3b91f-6c86-4dc1-ed45-e06796f8edf3"
      },
      "source": [
        "import pprint\n",
        "pp = pprint.PrettyPrinter(indent=4)\n",
        "pp.pprint(lda_model_before.print_topics())\n"
      ],
      "execution_count": 127,
      "outputs": [
        {
          "output_type": "stream",
          "text": [
            "[   (   0,\n",
            "        '0.042*\"versa\" + 0.018*\"fitness\" + 0.018*\"watch\" + 0.015*\"band\" + '\n",
            "        '0.013*\"smartwatch\" + 0.011*\"apple\" + 0.007*\"que\" + 0.007*\"smart\" + '\n",
            "        '0.006*\"lite\" + 0.006*\"ios\"'),\n",
            "    (   1,\n",
            "        '0.019*\"sleep\" + 0.015*\"get\" + 0.012*\"day\" + 0.012*\"like\" + '\n",
            "        '0.011*\"watch\" + 0.010*\"time\" + 0.010*\"track\" + 0.009*\"loseit\" + '\n",
            "        '0.009*\"apple\" + 0.008*\"heart\"'),\n",
            "    (   2,\n",
            "        '0.105*\"step\" + 0.050*\"goal\" + 0.049*\"calory\" + 0.041*\"achieve\" + '\n",
            "        '0.039*\"october\" + 0.031*\"daily\" + 0.029*\"earn\" + 0.028*\"burn\" + '\n",
            "        '0.025*\"take\" + 0.023*\"adjustment\"'),\n",
            "    (   3,\n",
            "        '0.026*\"email\" + 0.025*\"hello\" + 0.021*\"address\" + 0.021*\"thank\" + '\n",
            "        '0.017*\"account\" + '\n",
            "        '0.016*\"httpstwittercommessagescomposerecipientid476258341\" + '\n",
            "        '0.016*\"help\" + 0.016*\"let\" + 0.015*\"app\" + 0.015*\"device\"'),\n",
            "    (   4,\n",
            "        '0.017*\"win\" + 0.015*\"versa\" + 0.010*\"watch\" + 0.009*\"garmin\" + '\n",
            "        '0.008*\"alexa\" + 0.007*\"smartwatch\" + 0.006*\"text\" + 0.006*\"want\" + '\n",
            "        '0.006*\"fitbitversa\" + 0.006*\"amaze\"'),\n",
            "    (   5,\n",
            "        '0.019*\"october\" + 0.012*\"pfizer\" + 0.010*\"partnership\" + '\n",
            "        '0.010*\"healthcare\" + 0.009*\"bristol\" + 0.008*\"myers\" + 0.008*\"squibb\" '\n",
            "        '+ 0.007*\"detection\" + 0.006*\"afib\" + 0.005*\"fibrillation\"')]\n"
          ],
          "name": "stdout"
        }
      ]
    },
    {
      "cell_type": "markdown",
      "metadata": {
        "id": "OPSpidWj---r",
        "colab_type": "text"
      },
      "source": [
        "\n",
        "\n",
        "1.   Topic0  - Discussion about different models\n",
        "2.   Topic1 - Generic wear and tear stuff\n",
        "3.   Topic2 - Fitbit Benefits\n",
        "4.   Topic3 - App & Watch options \n",
        "5.   Topic4 - Discussion about competition\n",
        "6.   Topic5 - Discussion about health benefits and partnerships\n",
        "\n",
        "\n"
      ]
    },
    {
      "cell_type": "code",
      "metadata": {
        "id": "iW-CuKKZ_3Aa",
        "colab_type": "code",
        "colab": {}
      },
      "source": [
        "words = list(set([i for l in df_main[df_main['after_news'] == 0].cleaned_text for i in l]))\n",
        "\n",
        "word_loadings = pd.DataFrame(words, columns=['word'])\n",
        "word_loadings['topic_0'] = 0.0\n",
        "word_loadings['topic_1'] = 0.0\n",
        "word_loadings['topic_2'] = 0.0\n",
        "word_loadings['topic_3'] = 0.0\n",
        "word_loadings['topic_4'] = 0.0\n",
        "word_loadings['topic_5'] = 0.0"
      ],
      "execution_count": 0,
      "outputs": []
    },
    {
      "cell_type": "code",
      "metadata": {
        "id": "kYIOMqMVAJb1",
        "colab_type": "code",
        "colab": {
          "base_uri": "https://localhost:8080/",
          "height": 33
        },
        "outputId": "2d216c84-a447-47ec-f9aa-984bf47708b2"
      },
      "source": [
        "for index, row in word_loadings.iterrows():\n",
        "  try:\n",
        "    w = lda_model_before.get_term_topics(row['word'], minimum_probability=0.000001)\n",
        "    word_loadings['topic_0'].loc[index]  = w[0][1]\n",
        "    word_loadings['topic_1'].loc[index]  = w[1][1]\n",
        "    word_loadings['topic_2'].loc[index]  = w[2][1]\n",
        "    word_loadings['topic_3'].loc[index]  = w[3][1]\n",
        "    word_loadings['topic_4'].loc[index]  = w[4][1]\n",
        "    word_loadings['topic_5'].loc[index]  = w[5][1]\n",
        "  except:\n",
        "    pass\n",
        "\n",
        "word_loadings.shape\n"
      ],
      "execution_count": 129,
      "outputs": [
        {
          "output_type": "execute_result",
          "data": {
            "text/plain": [
              "(31442, 7)"
            ]
          },
          "metadata": {
            "tags": []
          },
          "execution_count": 129
        }
      ]
    },
    {
      "cell_type": "code",
      "metadata": {
        "id": "k07bgWJwAPvA",
        "colab_type": "code",
        "colab": {
          "base_uri": "https://localhost:8080/",
          "height": 150
        },
        "outputId": "0ee44d10-5815-4938-9838-1a4c0548a321"
      },
      "source": [
        "print(word_loadings.head(5))\n",
        "word_loadings.to_csv('/content/gdrive/My Drive/Colab Notebooks/Text Analytics/Project/word_loadings_prenews')"
      ],
      "execution_count": 136,
      "outputs": [
        {
          "output_type": "stream",
          "text": [
            "                     word   topic_0   topic_1  ...  topic_3  topic_4  topic_5\n",
            "0                    send  0.005178  0.000000  ...      0.0      0.0      0.0\n",
            "1  httpsbitstatsnetbadges  0.000001  0.000003  ...      0.0      0.0      0.0\n",
            "2                singular  0.000005  0.000000  ...      0.0      0.0      0.0\n",
            "3         montreconnectee  0.000000  0.000000  ...      0.0      0.0      0.0\n",
            "4                 upやらすねん  0.000239  0.000000  ...      0.0      0.0      0.0\n",
            "\n",
            "[5 rows x 7 columns]\n"
          ],
          "name": "stdout"
        }
      ]
    },
    {
      "cell_type": "code",
      "metadata": {
        "id": "r8t3DHnRy3AJ",
        "colab_type": "code",
        "colab": {
          "base_uri": "https://localhost:8080/",
          "height": 50
        },
        "outputId": "e076afe3-4ec2-4acc-b80b-6a178c1becce"
      },
      "source": [
        "df_topics_pre = df_main[df_main['after_news'] == 0].copy(deep=True)\n",
        "\n",
        "df_topics_pre['topic_0'] = 0.0\n",
        "df_topics_pre['topic_1'] = 0.0\n",
        "df_topics_pre['topic_2'] = 0.0\n",
        "df_topics_pre['topic_3'] = 0.0\n",
        "df_topics_pre['topic_4'] = 0.0\n",
        "df_topics_pre['topic_5'] = 0.0\n",
        "\n",
        "print(df_main.shape)\n",
        "print(df_topics_pre.shape)"
      ],
      "execution_count": 137,
      "outputs": [
        {
          "output_type": "stream",
          "text": [
            "(98123, 9)\n",
            "(20311, 15)\n"
          ],
          "name": "stdout"
        }
      ]
    },
    {
      "cell_type": "code",
      "metadata": {
        "id": "8drVq_b9zEm3",
        "colab_type": "code",
        "colab": {}
      },
      "source": [
        "for index, row in df_topics_pre.iterrows():\n",
        "    bow = dictionary_before.doc2bow(row['cleaned_text'])\n",
        "    t = lda_model_before.get_document_topics(bow)\n",
        "    for i in range(len(t)):\n",
        "      if t[i][0] == 0:\n",
        "        df_topics_pre['topic_0'].loc[index] = t[i][1]\n",
        "      elif t[i][0] == 1:\n",
        "        df_topics_pre['topic_1'].loc[index] = t[i][1]\n",
        "      elif t[i][0] == 2:\n",
        "        df_topics_pre['topic_2'].loc[index] = t[i][1]\n",
        "      elif t[i][0] == 3:\n",
        "        df_topics_pre['topic_3'].loc[index] = t[i][1]\n",
        "      elif t[i][0] == 4:\n",
        "        df_topics_pre['topic_4'].loc[index] = t[i][1]\n",
        "      else:\n",
        "        df_topics_pre['topic_5'].loc[index] = t[i][1]        "
      ],
      "execution_count": 0,
      "outputs": []
    },
    {
      "cell_type": "code",
      "metadata": {
        "id": "OHJ6oiRH6bQn",
        "colab_type": "code",
        "colab": {
          "base_uri": "https://localhost:8080/",
          "height": 33
        },
        "outputId": "2b05d334-355a-4969-8b0f-15d8bf60ab68"
      },
      "source": [
        "print(df_topics_pre.shape)\n",
        "df_topics_pre.to_csv('/content/gdrive/My Drive/Colab Notebooks/Text Analytics/Project/topic_loadings_prenews')"
      ],
      "execution_count": 150,
      "outputs": [
        {
          "output_type": "stream",
          "text": [
            "(20311, 15)\n"
          ],
          "name": "stdout"
        }
      ]
    },
    {
      "cell_type": "markdown",
      "metadata": {
        "id": "BppNfNDmtwKE",
        "colab_type": "text"
      },
      "source": [
        "### During the peak"
      ]
    },
    {
      "cell_type": "code",
      "metadata": {
        "id": "NWnJJ718tvfJ",
        "colab_type": "code",
        "colab": {}
      },
      "source": [
        "## After announcement - taking the tweets/reddit posts only from 3rd November. Lot of noise might be there in the first 2 days\n",
        "\n",
        "dictionary_during = gensim.corpora.Dictionary(df_main[df_main['after_news'] == 1].cleaned_text)\n",
        "\n",
        "dictionary_during.filter_extremes(no_below=1, no_above=0.7) #, keep_n=100000)"
      ],
      "execution_count": 0,
      "outputs": []
    },
    {
      "cell_type": "code",
      "metadata": {
        "id": "QJyj5wGvt6aB",
        "colab_type": "code",
        "colab": {}
      },
      "source": [
        "bow_corpus_during = [dictionary_during.doc2bow(words) for words in df_main[df_main['after_news'] == 1].cleaned_text]\n"
      ],
      "execution_count": 0,
      "outputs": []
    },
    {
      "cell_type": "code",
      "metadata": {
        "id": "oAQFl6TTuCcA",
        "colab_type": "code",
        "colab": {}
      },
      "source": [
        "lda_model_during = gensim.models.LdaMulticore(bow_corpus_during, num_topics=4, id2word=dictionary_during, passes=2, workers=2, chunksize=100, random_state=1000)\n"
      ],
      "execution_count": 0,
      "outputs": []
    },
    {
      "cell_type": "code",
      "metadata": {
        "id": "lBSAmwuzuJ0P",
        "colab_type": "code",
        "colab": {
          "base_uri": "https://localhost:8080/",
          "height": 301
        },
        "outputId": "a320ccfe-3284-48b4-af53-40c1535d3981"
      },
      "source": [
        "import pprint\n",
        "pp = pprint.PrettyPrinter(indent=4)\n",
        "pp.pprint(lda_model_during.print_topics())\n"
      ],
      "execution_count": 154,
      "outputs": [
        {
          "output_type": "stream",
          "text": [
            "[   (   0,\n",
            "        '0.028*\"step\" + 0.013*\"pebble\" + 0.011*\"goal\" + 0.010*\"fit\" + '\n",
            "        '0.010*\"take\" + 0.009*\"achieve\" + 0.008*\"googl\" + 0.008*\"goog\" + '\n",
            "        '0.008*\"october\" + 0.008*\"burn\"'),\n",
            "    (   1,\n",
            "        '0.057*\"google\" + 0.022*\"por\" + 0.022*\"compra\" + 0.016*\"millones\" + '\n",
            "        '0.013*\"news\" + 0.011*\"dólares\" + 0.009*\"que\" + 0.008*\"stock\" + '\n",
            "        '0.008*\"httpstwittercomgooglestatus1190253069352628230\" + '\n",
            "        '0.007*\"google、fitbitを約21億ドルで買収\"'),\n",
            "    (   2,\n",
            "        '0.033*\"google\" + 0.021*\"datum\" + 0.012*\"watch\" + 0.009*\"health\" + '\n",
            "        '0.008*\"apple\" + 0.007*\"know\" + 0.007*\"like\" + 0.007*\"get\" + '\n",
            "        '0.006*\"time\" + 0.006*\"device\"'),\n",
            "    (   3,\n",
            "        '0.149*\"google\" + 0.074*\"buy\" + 0.068*\"billion\" + 0.048*\"acquire\" + '\n",
            "        '0.018*\"deal\" + 0.017*\"wearables\" + 0.011*\"maker\" + 0.010*\"smartwatch\" '\n",
            "        '+ 0.010*\"value\" + 0.009*\"alphabet\"')]\n"
          ],
          "name": "stdout"
        }
      ]
    },
    {
      "cell_type": "markdown",
      "metadata": {
        "id": "eTFmV6UNwRJW",
        "colab_type": "text"
      },
      "source": [
        "1.   Topic0  - Fitbit Features\n",
        "2.   Topic1 - About Google Acquisition - other Languages\n",
        "3.   Topic2 - Talking about benefits of acquisition and comparing with apple (?)\n",
        "4.   Topic3 - Google Acquisition.\n",
        "\n",
        "During the peak period, most of the talk is regarding Google and the acquisition.\n",
        "\n",
        "PS: We are getting better results with num_topics = 3"
      ]
    },
    {
      "cell_type": "code",
      "metadata": {
        "id": "Dnc1_KLaw00A",
        "colab_type": "code",
        "colab": {}
      },
      "source": [
        "words = list(set([i for l in df_main[df_main['after_news'] == 1].cleaned_text for i in l]))\n",
        "\n",
        "word_loadings = pd.DataFrame(words, columns=['word'])\n",
        "word_loadings['topic_0'] = 0.0\n",
        "word_loadings['topic_1'] = 0.0\n",
        "word_loadings['topic_2'] = 0.0\n",
        "word_loadings['topic_3'] = 0.0\n"
      ],
      "execution_count": 0,
      "outputs": []
    },
    {
      "cell_type": "code",
      "metadata": {
        "id": "LQFdT8H1yBZ8",
        "colab_type": "code",
        "colab": {
          "base_uri": "https://localhost:8080/",
          "height": 33
        },
        "outputId": "1b8add22-37c8-4959-d8d7-e2172f7c45ea"
      },
      "source": [
        "for index, row in word_loadings.iterrows():\n",
        "  try:\n",
        "    w = lda_model_during.get_term_topics(row['word'], minimum_probability=0.000001)\n",
        "    word_loadings['topic_0'].loc[index]  = w[0][1]\n",
        "    word_loadings['topic_1'].loc[index]  = w[1][1]\n",
        "    word_loadings['topic_2'].loc[index]  = w[2][1]\n",
        "    word_loadings['topic_3'].loc[index]  = w[3][1]\n",
        "  except:\n",
        "    pass\n",
        "\n",
        "word_loadings.shape\n"
      ],
      "execution_count": 161,
      "outputs": [
        {
          "output_type": "execute_result",
          "data": {
            "text/plain": [
              "(60565, 5)"
            ]
          },
          "metadata": {
            "tags": []
          },
          "execution_count": 161
        }
      ]
    },
    {
      "cell_type": "code",
      "metadata": {
        "id": "YkoYTI92yHNg",
        "colab_type": "code",
        "colab": {
          "base_uri": "https://localhost:8080/",
          "height": 150
        },
        "outputId": "8aa63185-682d-4036-97d5-f579867bba0a"
      },
      "source": [
        "print(word_loadings.head(5))\n",
        "word_loadings.to_csv('/content/gdrive/My Drive/Colab Notebooks/Text Analytics/Project/word_loadings_duringpeak')"
      ],
      "execution_count": 162,
      "outputs": [
        {
          "output_type": "stream",
          "text": [
            "                                                word  ...  topic_3\n",
            "0                                               send  ...      0.0\n",
            "1                                            massago  ...      0.0\n",
            "2                                           singular  ...      0.0\n",
            "3  httpswwwversion2dkartikelyderligere29danskepen...  ...      0.0\n",
            "4                                              歩（051  ...      0.0\n",
            "\n",
            "[5 rows x 5 columns]\n"
          ],
          "name": "stdout"
        }
      ]
    },
    {
      "cell_type": "code",
      "metadata": {
        "id": "kdhuyJpG7FNz",
        "colab_type": "code",
        "colab": {
          "base_uri": "https://localhost:8080/",
          "height": 50
        },
        "outputId": "d9ecf514-47b2-4638-89c7-e088432e4118"
      },
      "source": [
        "df_topics_peak = df_main[df_main['after_news'] == 1].copy(deep=True)\n",
        "\n",
        "df_topics_peak['topic_0'] = 0.0\n",
        "df_topics_peak['topic_1'] = 0.0\n",
        "df_topics_peak['topic_2'] = 0.0\n",
        "df_topics_peak['topic_3'] = 0.0\n",
        "\n",
        "print(df_main.shape)\n",
        "print(df_topics_peak.shape)"
      ],
      "execution_count": 163,
      "outputs": [
        {
          "output_type": "stream",
          "text": [
            "(98123, 9)\n",
            "(44885, 13)\n"
          ],
          "name": "stdout"
        }
      ]
    },
    {
      "cell_type": "code",
      "metadata": {
        "id": "6CdHD6zu7xUL",
        "colab_type": "code",
        "colab": {}
      },
      "source": [
        "for index, row in df_topics_peak.iterrows():\n",
        "    bow = dictionary_during.doc2bow(row['cleaned_text'])\n",
        "    t = lda_model_during .get_document_topics(bow)\n",
        "    for i in range(len(t)):\n",
        "      if t[i][0] == 0:\n",
        "        df_topics_peak['topic_0'].loc[index] = t[i][1]\n",
        "      elif t[i][0] == 1:\n",
        "        df_topics_peak['topic_1'].loc[index] = t[i][1]\n",
        "      elif t[i][0] == 2:\n",
        "        df_topics_peak['topic_2'].loc[index] = t[i][1]\n",
        "      else :\n",
        "        df_topics_peak['topic_3'].loc[index] = t[i][1]\n"
      ],
      "execution_count": 0,
      "outputs": []
    },
    {
      "cell_type": "code",
      "metadata": {
        "id": "l6JBsU6t8L4z",
        "colab_type": "code",
        "colab": {
          "base_uri": "https://localhost:8080/",
          "height": 33
        },
        "outputId": "108abbd2-774f-4630-f203-04cd8413f154"
      },
      "source": [
        "print(df_topics_peak.shape)\n",
        "df_topics_peak.to_csv('/content/gdrive/My Drive/Colab Notebooks/Text Analytics/Project/topic_loadings_during')"
      ],
      "execution_count": 170,
      "outputs": [
        {
          "output_type": "stream",
          "text": [
            "(44885, 13)\n"
          ],
          "name": "stdout"
        }
      ]
    },
    {
      "cell_type": "markdown",
      "metadata": {
        "id": "l1xHgNBy_zQz",
        "colab_type": "text"
      },
      "source": [
        "#### Post the news"
      ]
    },
    {
      "cell_type": "code",
      "metadata": {
        "colab_type": "code",
        "outputId": "53f77ae3-61f5-419d-f2b8-c764bd819cc5",
        "id": "tocPrQQDJ7LY",
        "colab": {
          "base_uri": "https://localhost:8080/",
          "height": 33
        }
      },
      "source": [
        "df_after = df_main[(df_main['after_news'] == 2) & (df_main['date'] >= (datetime(2019,11,3).date())) & (df_main['date'] <= (datetime(2019,11,15).date()))]\n",
        "df_after.shape\n",
        "#  <= datetime(2019,11,05).date() "
      ],
      "execution_count": 172,
      "outputs": [
        {
          "output_type": "execute_result",
          "data": {
            "text/plain": [
              "(31943, 9)"
            ]
          },
          "metadata": {
            "tags": []
          },
          "execution_count": 172
        }
      ]
    },
    {
      "cell_type": "code",
      "metadata": {
        "id": "O6LemM-I6HAP",
        "colab_type": "code",
        "colab": {}
      },
      "source": [
        "## After announcement - taking the tweets/reddit posts only from 3rd November. Lot of noise might be there in the first 2 days\n",
        "\n",
        "dictionary_after = gensim.corpora.Dictionary(df_after.cleaned_text)\n",
        "\n",
        "dictionary_after.filter_extremes(no_below=1, no_above=0.7) #, keep_n=100000)"
      ],
      "execution_count": 0,
      "outputs": []
    },
    {
      "cell_type": "code",
      "metadata": {
        "id": "UNom74vI8PLT",
        "colab_type": "code",
        "colab": {}
      },
      "source": [
        "bow_corpus_after = [dictionary_after.doc2bow(words) for words in df_after.cleaned_text]\n"
      ],
      "execution_count": 0,
      "outputs": []
    },
    {
      "cell_type": "code",
      "metadata": {
        "id": "wfIqSnMp8Tcl",
        "colab_type": "code",
        "colab": {}
      },
      "source": [
        "lda_model_after = gensim.models.LdaMulticore(bow_corpus_after, num_topics=4, id2word=dictionary_after, passes=2, workers=2, chunksize=100, random_state=1000)\n"
      ],
      "execution_count": 0,
      "outputs": []
    },
    {
      "cell_type": "code",
      "metadata": {
        "id": "RfNv4a298Vcz",
        "colab_type": "code",
        "colab": {
          "base_uri": "https://localhost:8080/",
          "height": 284
        },
        "outputId": "8ae00230-f666-4ca4-a220-ebf18f3f65f3"
      },
      "source": [
        "import pprint\n",
        "pp = pprint.PrettyPrinter(indent=4)\n",
        "pp.pprint(lda_model_after.print_topics())\n"
      ],
      "execution_count": 176,
      "outputs": [
        {
          "output_type": "stream",
          "text": [
            "[   (   0,\n",
            "        '0.048*\"google\" + 0.013*\"por\" + 0.010*\"compra\" + 0.008*\"que\" + '\n",
            "        '0.007*\"millones\" + 0.005*\"para\" + 0.005*\"los\" + 0.005*\"pour\" + '\n",
            "        '0.005*\"dollar\" + 0.004*\"dólares\"'),\n",
            "    (   1,\n",
            "        '0.017*\"versa\" + 0.014*\"hello\" + 0.012*\"email\" + 0.011*\"thank\" + '\n",
            "        '0.011*\"account\" + 0.009*\"charge\" + 0.008*\"let\" + 0.008*\"address\" + '\n",
            "        '0.008*\"help\" + 0.008*\"check\"'),\n",
            "    (   2,\n",
            "        '0.025*\"step\" + 0.011*\"get\" + 0.010*\"watch\" + 0.010*\"calory\" + '\n",
            "        '0.009*\"goal\" + 0.009*\"take\" + 0.008*\"day\" + 0.008*\"burn\" + '\n",
            "        '0.008*\"sleep\" + 0.008*\"november\"'),\n",
            "    (   3,\n",
            "        '0.108*\"google\" + 0.048*\"buy\" + 0.024*\"datum\" + 0.021*\"billion\" + '\n",
            "        '0.014*\"wearables\" + 0.012*\"acquire\" + 0.011*\"acquisition\" + '\n",
            "        '0.011*\"health\" + 0.010*\"deal\" + 0.009*\"privacy\"')]\n"
          ],
          "name": "stdout"
        }
      ]
    },
    {
      "cell_type": "markdown",
      "metadata": {
        "id": "G7GsM-u2HnIs",
        "colab_type": "text"
      },
      "source": [
        "1.   Topic0  - About google acquisition - Other Languages-  lol\n",
        "2.   Topic1 - App & Watch options\n",
        "3.   Topic2 - Fitbit Features\n",
        "4.   Topic3 - Google Acquisition. We see that word 'Privacy' come in here\n",
        "\n",
        "In the post period, the news about Google is too dominating that basically we are not able to pickup any other topics\n"
      ]
    },
    {
      "cell_type": "code",
      "metadata": {
        "id": "HW2jkndcCh_s",
        "colab_type": "code",
        "colab": {}
      },
      "source": [
        "words = list(set([i for l in df_after.cleaned_text for i in l]))\n",
        "\n",
        "word_loadings = pd.DataFrame(words, columns=['word'])\n",
        "word_loadings['topic_0'] = 0.0\n",
        "word_loadings['topic_1'] = 0.0\n",
        "word_loadings['topic_2'] = 0.0\n",
        "word_loadings['topic_3'] = 0.0\n"
      ],
      "execution_count": 0,
      "outputs": []
    },
    {
      "cell_type": "code",
      "metadata": {
        "id": "jYHeFLWpBDYm",
        "colab_type": "code",
        "colab": {
          "base_uri": "https://localhost:8080/",
          "height": 33
        },
        "outputId": "82fc685b-9c7d-48a8-d7c7-240dfea1657d"
      },
      "source": [
        "for index, row in word_loadings.iterrows():\n",
        "  try:\n",
        "    w = lda_model_after.get_term_topics(row['word'], minimum_probability=0.000001)\n",
        "    word_loadings['topic_0'].loc[index]  = w[0][1]\n",
        "    word_loadings['topic_1'].loc[index]  = w[1][1]\n",
        "    word_loadings['topic_2'].loc[index]  = w[2][1]\n",
        "    word_loadings['topic_3'].loc[index]  = w[3][1]\n",
        "    word_loadings['topic_4'].loc[index]  = w[4][1]\n",
        "    word_loadings['topic_5'].loc[index]  = w[5][1]\n",
        "  except:\n",
        "    pass\n",
        "\n",
        "word_loadings.shape\n"
      ],
      "execution_count": 178,
      "outputs": [
        {
          "output_type": "execute_result",
          "data": {
            "text/plain": [
              "(53271, 5)"
            ]
          },
          "metadata": {
            "tags": []
          },
          "execution_count": 178
        }
      ]
    },
    {
      "cell_type": "code",
      "metadata": {
        "id": "KqepNOJiLKn8",
        "colab_type": "code",
        "colab": {
          "base_uri": "https://localhost:8080/",
          "height": 150
        },
        "outputId": "1fa7a3a6-896c-4a85-b34b-b45774833ff3"
      },
      "source": [
        "print(word_loadings.head(5))\n",
        "word_loadings.to_csv('/content/gdrive/My Drive/Colab Notebooks/Text Analytics/Project/word_loadings_postnews')"
      ],
      "execution_count": 179,
      "outputs": [
        {
          "output_type": "stream",
          "text": [
            "                                                word  ...  topic_3\n",
            "0                                               send  ...      0.0\n",
            "1                                            massago  ...      0.0\n",
            "2                             httpsbitstatsnetbadges  ...      0.0\n",
            "3                           freeappshttpsappslicedco  ...      0.0\n",
            "4  httpswwwverbraucherzentralebremendeaktuellemel...  ...      0.0\n",
            "\n",
            "[5 rows x 5 columns]\n"
          ],
          "name": "stdout"
        }
      ]
    },
    {
      "cell_type": "code",
      "metadata": {
        "id": "zVHra78ELUXd",
        "colab_type": "code",
        "colab": {
          "base_uri": "https://localhost:8080/",
          "height": 50
        },
        "outputId": "123112a5-16e4-41d8-b4c1-0f2efd43bc9f"
      },
      "source": [
        "df_topics_post = df_after.copy(deep=True)\n",
        "\n",
        "df_topics_post['topic_0'] = 0.0\n",
        "df_topics_post['topic_1'] = 0.0\n",
        "df_topics_post['topic_2'] = 0.0\n",
        "df_topics_post['topic_3'] = 0.0\n",
        "\n",
        "print(df_main.shape)\n",
        "print(df_topics_post.shape)"
      ],
      "execution_count": 180,
      "outputs": [
        {
          "output_type": "stream",
          "text": [
            "(98123, 9)\n",
            "(31943, 13)\n"
          ],
          "name": "stdout"
        }
      ]
    },
    {
      "cell_type": "code",
      "metadata": {
        "id": "Tg2e0Zu7-NHP",
        "colab_type": "code",
        "colab": {}
      },
      "source": [
        "for index, row in df_topics_post.iterrows():\n",
        "    bow = dictionary_during.doc2bow(row['cleaned_text'])\n",
        "    t = lda_model_during .get_document_topics(bow)\n",
        "    for i in range(len(t)):\n",
        "      if t[i][0] == 0:\n",
        "        df_topics_post['topic_0'].loc[index] = t[i][1]\n",
        "      elif t[i][0] == 1:\n",
        "        df_topics_post['topic_1'].loc[index] = t[i][1]\n",
        "      elif t[i][0] == 2:\n",
        "        df_topics_post['topic_2'].loc[index] = t[i][1]\n",
        "      else :\n",
        "        df_topics_post['topic_3'].loc[index] = t[i][1]\n"
      ],
      "execution_count": 0,
      "outputs": []
    },
    {
      "cell_type": "code",
      "metadata": {
        "id": "zsWHL-_q-VOG",
        "colab_type": "code",
        "colab": {
          "base_uri": "https://localhost:8080/",
          "height": 33
        },
        "outputId": "76fbf7cf-c479-41eb-acc2-c21beba58ba1"
      },
      "source": [
        "print(df_topics_post.shape)\n",
        "df_topics_post.to_csv('/content/gdrive/My Drive/Colab Notebooks/Text Analytics/Project/topic_loadings_post')"
      ],
      "execution_count": 182,
      "outputs": [
        {
          "output_type": "stream",
          "text": [
            "(31943, 13)\n"
          ],
          "name": "stdout"
        }
      ]
    },
    {
      "cell_type": "markdown",
      "metadata": {
        "id": "sPFX3QIR-hQp",
        "colab_type": "text"
      },
      "source": [
        "### Getting the topic loadings for all rows"
      ]
    },
    {
      "cell_type": "code",
      "metadata": {
        "id": "qNSkvXfz-bJq",
        "colab_type": "code",
        "colab": {
          "base_uri": "https://localhost:8080/",
          "height": 84
        },
        "outputId": "303e6fe1-ae0d-4633-c8fb-45a99d1574a1"
      },
      "source": [
        "print(df_topics_pre.shape)\n",
        "print(df_topics_peak.shape)\n",
        "print(df_topics_post.shape)\n",
        "print(df_main.shape)"
      ],
      "execution_count": 183,
      "outputs": [
        {
          "output_type": "stream",
          "text": [
            "(20311, 15)\n",
            "(44885, 13)\n",
            "(31943, 13)\n",
            "(98123, 9)\n"
          ],
          "name": "stdout"
        }
      ]
    },
    {
      "cell_type": "code",
      "metadata": {
        "id": "dI-mbcKK-xsk",
        "colab_type": "code",
        "colab": {
          "base_uri": "https://localhost:8080/",
          "height": 313
        },
        "outputId": "9f7d9987-2ead-4e7e-fed2-7ec58dcb8bf0"
      },
      "source": [
        "df_main.head(5)"
      ],
      "execution_count": 185,
      "outputs": [
        {
          "output_type": "execute_result",
          "data": {
            "text/html": [
              "<div>\n",
              "<style scoped>\n",
              "    .dataframe tbody tr th:only-of-type {\n",
              "        vertical-align: middle;\n",
              "    }\n",
              "\n",
              "    .dataframe tbody tr th {\n",
              "        vertical-align: top;\n",
              "    }\n",
              "\n",
              "    .dataframe thead th {\n",
              "        text-align: right;\n",
              "    }\n",
              "</style>\n",
              "<table border=\"1\" class=\"dataframe\">\n",
              "  <thead>\n",
              "    <tr style=\"text-align: right;\">\n",
              "      <th></th>\n",
              "      <th>date</th>\n",
              "      <th>body</th>\n",
              "      <th>google_mention</th>\n",
              "      <th>apple_mention</th>\n",
              "      <th>samsung_mention</th>\n",
              "      <th>garmin_mention</th>\n",
              "      <th>after_news</th>\n",
              "      <th>cleaned_text</th>\n",
              "      <th>cleaned_string</th>\n",
              "    </tr>\n",
              "  </thead>\n",
              "  <tbody>\n",
              "    <tr>\n",
              "      <th>0</th>\n",
              "      <td>2019-11-24</td>\n",
              "      <td>Totally agree on the Fenix. I will never make ...</td>\n",
              "      <td>False</td>\n",
              "      <td>False</td>\n",
              "      <td>False</td>\n",
              "      <td>True</td>\n",
              "      <td>2</td>\n",
              "      <td>[totally, agree, fenix, argument, worth, far, ...</td>\n",
              "      <td>totally agree fenix argument worth far happy a...</td>\n",
              "    </tr>\n",
              "    <tr>\n",
              "      <th>1</th>\n",
              "      <td>2019-11-24</td>\n",
              "      <td>Oh hey same phone.\\n\\nI got a really good deal...</td>\n",
              "      <td>False</td>\n",
              "      <td>False</td>\n",
              "      <td>True</td>\n",
              "      <td>False</td>\n",
              "      <td>2</td>\n",
              "      <td>[hey, phone, get, good, deal, samsung, galaxy,...</td>\n",
              "      <td>hey phone get good deal samsung galaxy watch r...</td>\n",
              "    </tr>\n",
              "    <tr>\n",
              "      <th>2</th>\n",
              "      <td>2019-11-24</td>\n",
              "      <td>Goodness, I meant a generation that hasn't eve...</td>\n",
              "      <td>False</td>\n",
              "      <td>True</td>\n",
              "      <td>False</td>\n",
              "      <td>False</td>\n",
              "      <td>2</td>\n",
              "      <td>[goodness, mean, generation, bear, fact, reaso...</td>\n",
              "      <td>goodness mean generation bear fact reason post...</td>\n",
              "    </tr>\n",
              "    <tr>\n",
              "      <th>3</th>\n",
              "      <td>2019-11-24</td>\n",
              "      <td>Fitbit versa 2! I love mine</td>\n",
              "      <td>False</td>\n",
              "      <td>False</td>\n",
              "      <td>False</td>\n",
              "      <td>False</td>\n",
              "      <td>2</td>\n",
              "      <td>[fitbit, versa, love]</td>\n",
              "      <td>fitbit versa love</td>\n",
              "    </tr>\n",
              "    <tr>\n",
              "      <th>4</th>\n",
              "      <td>2019-11-24</td>\n",
              "      <td>FitBit?</td>\n",
              "      <td>False</td>\n",
              "      <td>False</td>\n",
              "      <td>False</td>\n",
              "      <td>False</td>\n",
              "      <td>2</td>\n",
              "      <td>[fitbit]</td>\n",
              "      <td>fitbit</td>\n",
              "    </tr>\n",
              "  </tbody>\n",
              "</table>\n",
              "</div>"
            ],
            "text/plain": [
              "         date  ...                                     cleaned_string\n",
              "0  2019-11-24  ...  totally agree fenix argument worth far happy a...\n",
              "1  2019-11-24  ...  hey phone get good deal samsung galaxy watch r...\n",
              "2  2019-11-24  ...  goodness mean generation bear fact reason post...\n",
              "3  2019-11-24  ...                                  fitbit versa love\n",
              "4  2019-11-24  ...                                             fitbit\n",
              "\n",
              "[5 rows x 9 columns]"
            ]
          },
          "metadata": {
            "tags": []
          },
          "execution_count": 185
        }
      ]
    },
    {
      "cell_type": "code",
      "metadata": {
        "id": "_bBdO9zi-8-k",
        "colab_type": "code",
        "colab": {
          "base_uri": "https://localhost:8080/",
          "height": 33
        },
        "outputId": "d24ba82b-9ddd-4e3a-ef19-082ce479c0dc"
      },
      "source": [
        "df_agg = pd.concat([df_topics_pre, df_topics_peak,df_topics_post], axis=0, sort=False)\n",
        "df_agg = df_agg.reset_index()\n",
        "df_agg = df_agg.drop(columns=\"index\")\n",
        "df_agg.shape"
      ],
      "execution_count": 198,
      "outputs": [
        {
          "output_type": "execute_result",
          "data": {
            "text/plain": [
              "(97139, 15)"
            ]
          },
          "metadata": {
            "tags": []
          },
          "execution_count": 198
        }
      ]
    },
    {
      "cell_type": "code",
      "metadata": {
        "id": "CgMeq_ad_Wp1",
        "colab_type": "code",
        "colab": {
          "base_uri": "https://localhost:8080/",
          "height": 551
        },
        "outputId": "d5c3287b-65a9-4faf-c4bf-e805dd5d22ec"
      },
      "source": [
        "df_agg.head(5)"
      ],
      "execution_count": 199,
      "outputs": [
        {
          "output_type": "execute_result",
          "data": {
            "text/html": [
              "<div>\n",
              "<style scoped>\n",
              "    .dataframe tbody tr th:only-of-type {\n",
              "        vertical-align: middle;\n",
              "    }\n",
              "\n",
              "    .dataframe tbody tr th {\n",
              "        vertical-align: top;\n",
              "    }\n",
              "\n",
              "    .dataframe thead th {\n",
              "        text-align: right;\n",
              "    }\n",
              "</style>\n",
              "<table border=\"1\" class=\"dataframe\">\n",
              "  <thead>\n",
              "    <tr style=\"text-align: right;\">\n",
              "      <th></th>\n",
              "      <th>date</th>\n",
              "      <th>body</th>\n",
              "      <th>google_mention</th>\n",
              "      <th>apple_mention</th>\n",
              "      <th>samsung_mention</th>\n",
              "      <th>garmin_mention</th>\n",
              "      <th>after_news</th>\n",
              "      <th>cleaned_text</th>\n",
              "      <th>cleaned_string</th>\n",
              "      <th>topic_0</th>\n",
              "      <th>topic_1</th>\n",
              "      <th>topic_2</th>\n",
              "      <th>topic_3</th>\n",
              "      <th>topic_4</th>\n",
              "      <th>topic_5</th>\n",
              "    </tr>\n",
              "  </thead>\n",
              "  <tbody>\n",
              "    <tr>\n",
              "      <th>0</th>\n",
              "      <td>2019-10-27</td>\n",
              "      <td>You could try FitBit which is really nice for ...</td>\n",
              "      <td>False</td>\n",
              "      <td>True</td>\n",
              "      <td>True</td>\n",
              "      <td>False</td>\n",
              "      <td>0</td>\n",
              "      <td>[try, fitbit, nice, sleep, track, fitness, ori...</td>\n",
              "      <td>try fitbit nice sleep track fitness orient sma...</td>\n",
              "      <td>0.593730</td>\n",
              "      <td>0.593731</td>\n",
              "      <td>0.167738</td>\n",
              "      <td>0.225635</td>\n",
              "      <td>0.167742</td>\n",
              "      <td>0.000000</td>\n",
              "    </tr>\n",
              "    <tr>\n",
              "      <th>1</th>\n",
              "      <td>2019-10-27</td>\n",
              "      <td>I can't help you with your streaming questions...</td>\n",
              "      <td>False</td>\n",
              "      <td>False</td>\n",
              "      <td>False</td>\n",
              "      <td>False</td>\n",
              "      <td>0</td>\n",
              "      <td>[help, stream, question, track, medical, reaso...</td>\n",
              "      <td>help stream question track medical reason fitb...</td>\n",
              "      <td>0.000000</td>\n",
              "      <td>0.539829</td>\n",
              "      <td>0.051187</td>\n",
              "      <td>0.262217</td>\n",
              "      <td>0.000000</td>\n",
              "      <td>0.139348</td>\n",
              "    </tr>\n",
              "    <tr>\n",
              "      <th>2</th>\n",
              "      <td>2019-10-27</td>\n",
              "      <td>Honestly, I'm worried how he looks may actuall...</td>\n",
              "      <td>False</td>\n",
              "      <td>False</td>\n",
              "      <td>False</td>\n",
              "      <td>False</td>\n",
              "      <td>0</td>\n",
              "      <td>[honestly, worry, look, actually, medical, iss...</td>\n",
              "      <td>honestly worry look actually medical issue eat...</td>\n",
              "      <td>0.000000</td>\n",
              "      <td>0.951215</td>\n",
              "      <td>0.000000</td>\n",
              "      <td>0.030699</td>\n",
              "      <td>0.000000</td>\n",
              "      <td>0.000000</td>\n",
              "    </tr>\n",
              "    <tr>\n",
              "      <th>3</th>\n",
              "      <td>2019-10-27</td>\n",
              "      <td>That's the strange thing. From what I can tell...</td>\n",
              "      <td>False</td>\n",
              "      <td>False</td>\n",
              "      <td>False</td>\n",
              "      <td>False</td>\n",
              "      <td>0</td>\n",
              "      <td>[strange, thing, tell, probably, weigh, descri...</td>\n",
              "      <td>strange thing tell probably weigh describe ski...</td>\n",
              "      <td>0.000000</td>\n",
              "      <td>0.888474</td>\n",
              "      <td>0.073087</td>\n",
              "      <td>0.026793</td>\n",
              "      <td>0.000000</td>\n",
              "      <td>0.000000</td>\n",
              "    </tr>\n",
              "    <tr>\n",
              "      <th>4</th>\n",
              "      <td>2019-10-27</td>\n",
              "      <td>Kind of now that I looked it up. I just said F...</td>\n",
              "      <td>False</td>\n",
              "      <td>False</td>\n",
              "      <td>False</td>\n",
              "      <td>False</td>\n",
              "      <td>0</td>\n",
              "      <td>[kind, look, say, fitbit, early, think]</td>\n",
              "      <td>kind look say fitbit early think</td>\n",
              "      <td>0.027778</td>\n",
              "      <td>0.860558</td>\n",
              "      <td>0.027779</td>\n",
              "      <td>0.028070</td>\n",
              "      <td>0.027779</td>\n",
              "      <td>0.028036</td>\n",
              "    </tr>\n",
              "  </tbody>\n",
              "</table>\n",
              "</div>"
            ],
            "text/plain": [
              "         date  ...   topic_5\n",
              "0  2019-10-27  ...  0.000000\n",
              "1  2019-10-27  ...  0.139348\n",
              "2  2019-10-27  ...  0.000000\n",
              "3  2019-10-27  ...  0.000000\n",
              "4  2019-10-27  ...  0.028036\n",
              "\n",
              "[5 rows x 15 columns]"
            ]
          },
          "metadata": {
            "tags": []
          },
          "execution_count": 199
        }
      ]
    },
    {
      "cell_type": "code",
      "metadata": {
        "id": "XtIxMsG0_sT2",
        "colab_type": "code",
        "colab": {}
      },
      "source": [
        "df_agg.to_csv('/content/gdrive/My Drive/Colab Notebooks/Text Analytics/Project/With_Topic_Loadings.csv')"
      ],
      "execution_count": 0,
      "outputs": []
    },
    {
      "cell_type": "code",
      "metadata": {
        "id": "z74GVruM_8j2",
        "colab_type": "code",
        "colab": {}
      },
      "source": [
        ""
      ],
      "execution_count": 0,
      "outputs": []
    }
  ]
}